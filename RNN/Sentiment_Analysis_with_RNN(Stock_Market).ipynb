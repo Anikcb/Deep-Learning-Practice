{
  "nbformat": 4,
  "nbformat_minor": 0,
  "metadata": {
    "colab": {
      "provenance": [],
      "gpuType": "T4"
    },
    "kernelspec": {
      "name": "python3",
      "display_name": "Python 3"
    },
    "accelerator": "GPU"
  },
  "cells": [
    {
      "cell_type": "markdown",
      "source": [
        "## Mouinting Drive"
      ],
      "metadata": {
        "id": "3EFX3Tn4Ms09"
      }
    },
    {
      "cell_type": "code",
      "source": [
        "from google.colab import drive\n",
        "drive.mount('/content/gdrive')"
      ],
      "metadata": {
        "colab": {
          "base_uri": "https://localhost:8080/"
        },
        "id": "_-k7yinRMsWm",
        "outputId": "4ab3886f-d908-47f9-f76c-6f1d0f0b3a10"
      },
      "execution_count": 1,
      "outputs": [
        {
          "output_type": "stream",
          "name": "stdout",
          "text": [
            "Mounted at /content/gdrive\n"
          ]
        }
      ]
    },
    {
      "cell_type": "code",
      "source": [
        "import pandas as pd\n",
        "import numpy as np\n",
        "from sklearn import preprocessing\n",
        "from keras.datasets import imdb\n",
        "from keras.preprocessing.text import Tokenizer\n",
        "from keras.utils import pad_sequences\n",
        "from keras import Sequential\n",
        "from keras.layers import Dense,SimpleRNN,Embedding,Flatten\n",
        "from keras.losses import  CategoricalCrossentropy\n",
        "from sklearn.model_selection import train_test_split"
      ],
      "metadata": {
        "id": "yAxfg79XNN0s"
      },
      "execution_count": 20,
      "outputs": []
    },
    {
      "cell_type": "markdown",
      "source": [
        "## Reading CSV"
      ],
      "metadata": {
        "id": "ZVlu0-PfM0Lu"
      }
    },
    {
      "cell_type": "markdown",
      "source": [
        "[Dataset](https://www.kaggle.com/datasets/yash612/stockmarket-sentiment-dataset)"
      ],
      "metadata": {
        "id": "XSFy70DIM9J9"
      }
    },
    {
      "cell_type": "code",
      "source": [
        "df = pd.read_csv('stock_data.csv')\n",
        "df"
      ],
      "metadata": {
        "id": "1NzcRnQDMorO",
        "colab": {
          "base_uri": "https://localhost:8080/",
          "height": 729
        },
        "outputId": "10957b3e-1149-49ff-c9c7-fee3bd803831"
      },
      "execution_count": 3,
      "outputs": [
        {
          "output_type": "execute_result",
          "data": {
            "text/plain": [
              "                                                   Text  Sentiment\n",
              "0     Kickers on my watchlist XIDE TIT SOQ PNK CPW B...          1\n",
              "1     user: AAP MOVIE. 55% return for the FEA/GEED i...          1\n",
              "2     user I'd be afraid to short AMZN - they are lo...          1\n",
              "3                                     MNTA Over 12.00            1\n",
              "4                                      OI  Over 21.37            1\n",
              "...                                                 ...        ...\n",
              "5786  Industry body CII said #discoms are likely to ...         -1\n",
              "5787  #Gold prices slip below Rs 46,000 as #investor...         -1\n",
              "5788  Workers at Bajaj Auto have agreed to a 10% wag...          1\n",
              "5789  #Sharemarket LIVE: Sensex off day’s high, up 6...          1\n",
              "5790  #Sensex, #Nifty climb off day's highs, still u...          1\n",
              "\n",
              "[5791 rows x 2 columns]"
            ],
            "text/html": [
              "\n",
              "  <div id=\"df-03e2e84e-86fd-428e-877d-c67a896deb55\" class=\"colab-df-container\">\n",
              "    <div>\n",
              "<style scoped>\n",
              "    .dataframe tbody tr th:only-of-type {\n",
              "        vertical-align: middle;\n",
              "    }\n",
              "\n",
              "    .dataframe tbody tr th {\n",
              "        vertical-align: top;\n",
              "    }\n",
              "\n",
              "    .dataframe thead th {\n",
              "        text-align: right;\n",
              "    }\n",
              "</style>\n",
              "<table border=\"1\" class=\"dataframe\">\n",
              "  <thead>\n",
              "    <tr style=\"text-align: right;\">\n",
              "      <th></th>\n",
              "      <th>Text</th>\n",
              "      <th>Sentiment</th>\n",
              "    </tr>\n",
              "  </thead>\n",
              "  <tbody>\n",
              "    <tr>\n",
              "      <th>0</th>\n",
              "      <td>Kickers on my watchlist XIDE TIT SOQ PNK CPW B...</td>\n",
              "      <td>1</td>\n",
              "    </tr>\n",
              "    <tr>\n",
              "      <th>1</th>\n",
              "      <td>user: AAP MOVIE. 55% return for the FEA/GEED i...</td>\n",
              "      <td>1</td>\n",
              "    </tr>\n",
              "    <tr>\n",
              "      <th>2</th>\n",
              "      <td>user I'd be afraid to short AMZN - they are lo...</td>\n",
              "      <td>1</td>\n",
              "    </tr>\n",
              "    <tr>\n",
              "      <th>3</th>\n",
              "      <td>MNTA Over 12.00</td>\n",
              "      <td>1</td>\n",
              "    </tr>\n",
              "    <tr>\n",
              "      <th>4</th>\n",
              "      <td>OI  Over 21.37</td>\n",
              "      <td>1</td>\n",
              "    </tr>\n",
              "    <tr>\n",
              "      <th>...</th>\n",
              "      <td>...</td>\n",
              "      <td>...</td>\n",
              "    </tr>\n",
              "    <tr>\n",
              "      <th>5786</th>\n",
              "      <td>Industry body CII said #discoms are likely to ...</td>\n",
              "      <td>-1</td>\n",
              "    </tr>\n",
              "    <tr>\n",
              "      <th>5787</th>\n",
              "      <td>#Gold prices slip below Rs 46,000 as #investor...</td>\n",
              "      <td>-1</td>\n",
              "    </tr>\n",
              "    <tr>\n",
              "      <th>5788</th>\n",
              "      <td>Workers at Bajaj Auto have agreed to a 10% wag...</td>\n",
              "      <td>1</td>\n",
              "    </tr>\n",
              "    <tr>\n",
              "      <th>5789</th>\n",
              "      <td>#Sharemarket LIVE: Sensex off day’s high, up 6...</td>\n",
              "      <td>1</td>\n",
              "    </tr>\n",
              "    <tr>\n",
              "      <th>5790</th>\n",
              "      <td>#Sensex, #Nifty climb off day's highs, still u...</td>\n",
              "      <td>1</td>\n",
              "    </tr>\n",
              "  </tbody>\n",
              "</table>\n",
              "<p>5791 rows × 2 columns</p>\n",
              "</div>\n",
              "    <div class=\"colab-df-buttons\">\n",
              "\n",
              "  <div class=\"colab-df-container\">\n",
              "    <button class=\"colab-df-convert\" onclick=\"convertToInteractive('df-03e2e84e-86fd-428e-877d-c67a896deb55')\"\n",
              "            title=\"Convert this dataframe to an interactive table.\"\n",
              "            style=\"display:none;\">\n",
              "\n",
              "  <svg xmlns=\"http://www.w3.org/2000/svg\" height=\"24px\" viewBox=\"0 -960 960 960\">\n",
              "    <path d=\"M120-120v-720h720v720H120Zm60-500h600v-160H180v160Zm220 220h160v-160H400v160Zm0 220h160v-160H400v160ZM180-400h160v-160H180v160Zm440 0h160v-160H620v160ZM180-180h160v-160H180v160Zm440 0h160v-160H620v160Z\"/>\n",
              "  </svg>\n",
              "    </button>\n",
              "\n",
              "  <style>\n",
              "    .colab-df-container {\n",
              "      display:flex;\n",
              "      gap: 12px;\n",
              "    }\n",
              "\n",
              "    .colab-df-convert {\n",
              "      background-color: #E8F0FE;\n",
              "      border: none;\n",
              "      border-radius: 50%;\n",
              "      cursor: pointer;\n",
              "      display: none;\n",
              "      fill: #1967D2;\n",
              "      height: 32px;\n",
              "      padding: 0 0 0 0;\n",
              "      width: 32px;\n",
              "    }\n",
              "\n",
              "    .colab-df-convert:hover {\n",
              "      background-color: #E2EBFA;\n",
              "      box-shadow: 0px 1px 2px rgba(60, 64, 67, 0.3), 0px 1px 3px 1px rgba(60, 64, 67, 0.15);\n",
              "      fill: #174EA6;\n",
              "    }\n",
              "\n",
              "    .colab-df-buttons div {\n",
              "      margin-bottom: 4px;\n",
              "    }\n",
              "\n",
              "    [theme=dark] .colab-df-convert {\n",
              "      background-color: #3B4455;\n",
              "      fill: #D2E3FC;\n",
              "    }\n",
              "\n",
              "    [theme=dark] .colab-df-convert:hover {\n",
              "      background-color: #434B5C;\n",
              "      box-shadow: 0px 1px 3px 1px rgba(0, 0, 0, 0.15);\n",
              "      filter: drop-shadow(0px 1px 2px rgba(0, 0, 0, 0.3));\n",
              "      fill: #FFFFFF;\n",
              "    }\n",
              "  </style>\n",
              "\n",
              "    <script>\n",
              "      const buttonEl =\n",
              "        document.querySelector('#df-03e2e84e-86fd-428e-877d-c67a896deb55 button.colab-df-convert');\n",
              "      buttonEl.style.display =\n",
              "        google.colab.kernel.accessAllowed ? 'block' : 'none';\n",
              "\n",
              "      async function convertToInteractive(key) {\n",
              "        const element = document.querySelector('#df-03e2e84e-86fd-428e-877d-c67a896deb55');\n",
              "        const dataTable =\n",
              "          await google.colab.kernel.invokeFunction('convertToInteractive',\n",
              "                                                    [key], {});\n",
              "        if (!dataTable) return;\n",
              "\n",
              "        const docLinkHtml = 'Like what you see? Visit the ' +\n",
              "          '<a target=\"_blank\" href=https://colab.research.google.com/notebooks/data_table.ipynb>data table notebook</a>'\n",
              "          + ' to learn more about interactive tables.';\n",
              "        element.innerHTML = '';\n",
              "        dataTable['output_type'] = 'display_data';\n",
              "        await google.colab.output.renderOutput(dataTable, element);\n",
              "        const docLink = document.createElement('div');\n",
              "        docLink.innerHTML = docLinkHtml;\n",
              "        element.appendChild(docLink);\n",
              "      }\n",
              "    </script>\n",
              "  </div>\n",
              "\n",
              "\n",
              "<div id=\"df-fa4c3ca4-d1d0-426c-af81-b705220c4f25\">\n",
              "  <button class=\"colab-df-quickchart\" onclick=\"quickchart('df-fa4c3ca4-d1d0-426c-af81-b705220c4f25')\"\n",
              "            title=\"Suggest charts\"\n",
              "            style=\"display:none;\">\n",
              "\n",
              "<svg xmlns=\"http://www.w3.org/2000/svg\" height=\"24px\"viewBox=\"0 0 24 24\"\n",
              "     width=\"24px\">\n",
              "    <g>\n",
              "        <path d=\"M19 3H5c-1.1 0-2 .9-2 2v14c0 1.1.9 2 2 2h14c1.1 0 2-.9 2-2V5c0-1.1-.9-2-2-2zM9 17H7v-7h2v7zm4 0h-2V7h2v10zm4 0h-2v-4h2v4z\"/>\n",
              "    </g>\n",
              "</svg>\n",
              "  </button>\n",
              "\n",
              "<style>\n",
              "  .colab-df-quickchart {\n",
              "      --bg-color: #E8F0FE;\n",
              "      --fill-color: #1967D2;\n",
              "      --hover-bg-color: #E2EBFA;\n",
              "      --hover-fill-color: #174EA6;\n",
              "      --disabled-fill-color: #AAA;\n",
              "      --disabled-bg-color: #DDD;\n",
              "  }\n",
              "\n",
              "  [theme=dark] .colab-df-quickchart {\n",
              "      --bg-color: #3B4455;\n",
              "      --fill-color: #D2E3FC;\n",
              "      --hover-bg-color: #434B5C;\n",
              "      --hover-fill-color: #FFFFFF;\n",
              "      --disabled-bg-color: #3B4455;\n",
              "      --disabled-fill-color: #666;\n",
              "  }\n",
              "\n",
              "  .colab-df-quickchart {\n",
              "    background-color: var(--bg-color);\n",
              "    border: none;\n",
              "    border-radius: 50%;\n",
              "    cursor: pointer;\n",
              "    display: none;\n",
              "    fill: var(--fill-color);\n",
              "    height: 32px;\n",
              "    padding: 0;\n",
              "    width: 32px;\n",
              "  }\n",
              "\n",
              "  .colab-df-quickchart:hover {\n",
              "    background-color: var(--hover-bg-color);\n",
              "    box-shadow: 0 1px 2px rgba(60, 64, 67, 0.3), 0 1px 3px 1px rgba(60, 64, 67, 0.15);\n",
              "    fill: var(--button-hover-fill-color);\n",
              "  }\n",
              "\n",
              "  .colab-df-quickchart-complete:disabled,\n",
              "  .colab-df-quickchart-complete:disabled:hover {\n",
              "    background-color: var(--disabled-bg-color);\n",
              "    fill: var(--disabled-fill-color);\n",
              "    box-shadow: none;\n",
              "  }\n",
              "\n",
              "  .colab-df-spinner {\n",
              "    border: 2px solid var(--fill-color);\n",
              "    border-color: transparent;\n",
              "    border-bottom-color: var(--fill-color);\n",
              "    animation:\n",
              "      spin 1s steps(1) infinite;\n",
              "  }\n",
              "\n",
              "  @keyframes spin {\n",
              "    0% {\n",
              "      border-color: transparent;\n",
              "      border-bottom-color: var(--fill-color);\n",
              "      border-left-color: var(--fill-color);\n",
              "    }\n",
              "    20% {\n",
              "      border-color: transparent;\n",
              "      border-left-color: var(--fill-color);\n",
              "      border-top-color: var(--fill-color);\n",
              "    }\n",
              "    30% {\n",
              "      border-color: transparent;\n",
              "      border-left-color: var(--fill-color);\n",
              "      border-top-color: var(--fill-color);\n",
              "      border-right-color: var(--fill-color);\n",
              "    }\n",
              "    40% {\n",
              "      border-color: transparent;\n",
              "      border-right-color: var(--fill-color);\n",
              "      border-top-color: var(--fill-color);\n",
              "    }\n",
              "    60% {\n",
              "      border-color: transparent;\n",
              "      border-right-color: var(--fill-color);\n",
              "    }\n",
              "    80% {\n",
              "      border-color: transparent;\n",
              "      border-right-color: var(--fill-color);\n",
              "      border-bottom-color: var(--fill-color);\n",
              "    }\n",
              "    90% {\n",
              "      border-color: transparent;\n",
              "      border-bottom-color: var(--fill-color);\n",
              "    }\n",
              "  }\n",
              "</style>\n",
              "\n",
              "  <script>\n",
              "    async function quickchart(key) {\n",
              "      const quickchartButtonEl =\n",
              "        document.querySelector('#' + key + ' button');\n",
              "      quickchartButtonEl.disabled = true;  // To prevent multiple clicks.\n",
              "      quickchartButtonEl.classList.add('colab-df-spinner');\n",
              "      try {\n",
              "        const charts = await google.colab.kernel.invokeFunction(\n",
              "            'suggestCharts', [key], {});\n",
              "      } catch (error) {\n",
              "        console.error('Error during call to suggestCharts:', error);\n",
              "      }\n",
              "      quickchartButtonEl.classList.remove('colab-df-spinner');\n",
              "      quickchartButtonEl.classList.add('colab-df-quickchart-complete');\n",
              "    }\n",
              "    (() => {\n",
              "      let quickchartButtonEl =\n",
              "        document.querySelector('#df-fa4c3ca4-d1d0-426c-af81-b705220c4f25 button');\n",
              "      quickchartButtonEl.style.display =\n",
              "        google.colab.kernel.accessAllowed ? 'block' : 'none';\n",
              "    })();\n",
              "  </script>\n",
              "</div>\n",
              "\n",
              "  <div id=\"id_c415b5c0-23f8-4ced-b40c-f67d8f970766\">\n",
              "    <style>\n",
              "      .colab-df-generate {\n",
              "        background-color: #E8F0FE;\n",
              "        border: none;\n",
              "        border-radius: 50%;\n",
              "        cursor: pointer;\n",
              "        display: none;\n",
              "        fill: #1967D2;\n",
              "        height: 32px;\n",
              "        padding: 0 0 0 0;\n",
              "        width: 32px;\n",
              "      }\n",
              "\n",
              "      .colab-df-generate:hover {\n",
              "        background-color: #E2EBFA;\n",
              "        box-shadow: 0px 1px 2px rgba(60, 64, 67, 0.3), 0px 1px 3px 1px rgba(60, 64, 67, 0.15);\n",
              "        fill: #174EA6;\n",
              "      }\n",
              "\n",
              "      [theme=dark] .colab-df-generate {\n",
              "        background-color: #3B4455;\n",
              "        fill: #D2E3FC;\n",
              "      }\n",
              "\n",
              "      [theme=dark] .colab-df-generate:hover {\n",
              "        background-color: #434B5C;\n",
              "        box-shadow: 0px 1px 3px 1px rgba(0, 0, 0, 0.15);\n",
              "        filter: drop-shadow(0px 1px 2px rgba(0, 0, 0, 0.3));\n",
              "        fill: #FFFFFF;\n",
              "      }\n",
              "    </style>\n",
              "    <button class=\"colab-df-generate\" onclick=\"generateWithVariable('df')\"\n",
              "            title=\"Generate code using this dataframe.\"\n",
              "            style=\"display:none;\">\n",
              "\n",
              "  <svg xmlns=\"http://www.w3.org/2000/svg\" height=\"24px\"viewBox=\"0 0 24 24\"\n",
              "       width=\"24px\">\n",
              "    <path d=\"M7,19H8.4L18.45,9,17,7.55,7,17.6ZM5,21V16.75L18.45,3.32a2,2,0,0,1,2.83,0l1.4,1.43a1.91,1.91,0,0,1,.58,1.4,1.91,1.91,0,0,1-.58,1.4L9.25,21ZM18.45,9,17,7.55Zm-12,3A5.31,5.31,0,0,0,4.9,8.1,5.31,5.31,0,0,0,1,6.5,5.31,5.31,0,0,0,4.9,4.9,5.31,5.31,0,0,0,6.5,1,5.31,5.31,0,0,0,8.1,4.9,5.31,5.31,0,0,0,12,6.5,5.46,5.46,0,0,0,6.5,12Z\"/>\n",
              "  </svg>\n",
              "    </button>\n",
              "    <script>\n",
              "      (() => {\n",
              "      const buttonEl =\n",
              "        document.querySelector('#id_c415b5c0-23f8-4ced-b40c-f67d8f970766 button.colab-df-generate');\n",
              "      buttonEl.style.display =\n",
              "        google.colab.kernel.accessAllowed ? 'block' : 'none';\n",
              "\n",
              "      buttonEl.onclick = () => {\n",
              "        google.colab.notebook.generateWithVariable('df');\n",
              "      }\n",
              "      })();\n",
              "    </script>\n",
              "  </div>\n",
              "\n",
              "    </div>\n",
              "  </div>\n"
            ],
            "application/vnd.google.colaboratory.intrinsic+json": {
              "type": "dataframe",
              "variable_name": "df",
              "summary": "{\n  \"name\": \"df\",\n  \"rows\": 5791,\n  \"fields\": [\n    {\n      \"column\": \"Text\",\n      \"properties\": {\n        \"dtype\": \"string\",\n        \"num_unique_values\": 5791,\n        \"samples\": [\n          \"MCP take-over chatter... (I know don't laugh...)\",\n          \"AMZN 1,200 lot bid in the Feb weekly 255P. 27 delta, could push market down or create resistance in the stock. Will probably bid up IV\",\n          \"KO made with sugar is sold at local COST. Consumers prefer that in CA.  user-Cola should make shift nationwide. I'm bullish SB_F SPY\"\n        ],\n        \"semantic_type\": \"\",\n        \"description\": \"\"\n      }\n    },\n    {\n      \"column\": \"Sentiment\",\n      \"properties\": {\n        \"dtype\": \"number\",\n        \"std\": 0,\n        \"min\": -1,\n        \"max\": 1,\n        \"num_unique_values\": 2,\n        \"samples\": [\n          -1,\n          1\n        ],\n        \"semantic_type\": \"\",\n        \"description\": \"\"\n      }\n    }\n  ]\n}"
            }
          },
          "metadata": {},
          "execution_count": 3
        },
        {
          "output_type": "display_data",
          "data": {
            "text/plain": [
              "<google.colab._quickchart_helpers.SectionTitle at 0x7bd47b119000>"
            ],
            "text/html": [
              "<h4 class=\"colab-quickchart-section-title\">Distributions</h4>\n",
              "<style>\n",
              "  .colab-quickchart-section-title {\n",
              "      clear: both;\n",
              "  }\n",
              "</style>"
            ]
          },
          "metadata": {}
        },
        {
          "output_type": "display_data",
          "data": {
            "text/plain": [
              "from matplotlib import pyplot as plt\n",
              "df['Sentiment'].plot(kind='hist', bins=20, title='Sentiment')\n",
              "plt.gca().spines[['top', 'right',]].set_visible(False)"
            ],
            "text/html": [
              "      <div class=\"colab-quickchart-chart-with-code\" id=\"chart-a9dcb7b9-9d8f-4738-b61e-a8d5c82214f6\">\n",
              "        <img style=\"width: 180px;\" src=\"data:image/png;base64,iVBORw0KGgoAAAANSUhEUgAAAjUAAAGrCAYAAAA4kWY2AAAAOXRFWHRTb2Z0d2FyZQBNYXRwbG90\n",
              "bGliIHZlcnNpb24zLjcuMSwgaHR0cHM6Ly9tYXRwbG90bGliLm9yZy/bCgiHAAAACXBIWXMAAA9h\n",
              "AAAPYQGoP6dpAAAmQklEQVR4nO3df3DU9YH/8deSjVEMSWpiIJhsYgyJFUNiMBkMKurUVqkKGjhO\n",
              "B0lO2sRaDxm448d4DpZjEr3TKtVao0fTw3QoCFg7UjytpaJXFBACFQdIgLhRA7FBEvBgTTbv7x98\n",
              "3XElhN2wm13eeT5mPqP7eX929/3Oh8BzNp/sOowxRgAAAOe4IZGeAAAAQCgQNQAAwApEDQAAsAJR\n",
              "AwAArEDUAAAAKxA1AADACkQNAACwAlEDAACsQNQAAAArEDUAzklut1vx8fHav39/pKcCIEoQNQDO\n",
              "2oEDB3T33Xdr5MiRio+P18iRIzVx4kS1traG5PEfffRRXXvttX77XC6Xjh07puzs7JA8R3/1NjcA\n",
              "kUHUADhrEydO1LBhw/Thhx/q2LFj2r59u6ZNmyaHwxHpqQEYRIgaAGelvb1du3fv1v3336+LLrpI\n",
              "kjR8+HCVl5drxIgRkqT3339fN9xwg5KTk5WZmalHHnlE3d3dvsdwOBx65plnNH78eMXHxys/P1/v\n",
              "vvuuJOm3v/2tqqurtWnTJsXHxys+Pl7vvPOOmpub5XA41NTUJEn6zW9+o/T0dD333HPKzMzUhRde\n",
              "qIqKCh09elQ/+clPlJycrLS0NNXW1vrNPxxzAxAhBgDOUn5+vrn66qvNr3/9a7Njxw7j9Xp9Y7t3\n",
              "7zYXXnihWbFihenq6jLNzc1mzJgxZsmSJb5jJJkxY8aYxsZG09XVZR566CHjcrl844sWLTLjx4/3\n",
              "e84DBw4YSaaxsdEYY0xdXZ2JiYkxc+fONcePHzf79u0z3/nOd8x3v/tds3btWtPd3W1efvll43Q6\n",
              "jdvtDuvcAEQGr9QAOGsbNmzQrbfeql/96lcqKSlRSkqK/uVf/kUej0e//OUvdfvtt+sf//Ef5XQ6\n",
              "lZmZqXnz5qmurs7vMebOnaucnBw5nU79+Mc/ltvt1qFDh4Kah9PpVE1Njc4//3xlZ2drwoQJysjI\n",
              "0J133qmYmBhNmTJFF1xwgbZt2yZJAzo3AOHnjPQEAJz7kpOTtXjxYi1evFgej0fr169XeXm54uPj\n",
              "1djYqA0bNigpKcl3fE9Pj3p6evweY+TIkb7/v/DCCyVJR48e1fDhwwOeR0pKimJjY/0eJzEx0e+Y\n",
              "oUOH6ujRo5I0oHMDEH68UgMgpOLi4jR58mR973vf07Zt2zRixAjdc889OnLkiG/r7OzUsWPHAn7M\n",
              "IUPC81dVNM8NQPD4bgRwVr744gstWLBAO3fulMfjkdfr1VtvvaUNGzbo+uuv1wMPPKDVq1fr5Zdf\n",
              "1ldffSWv16umpia9/vrrAT/HiBEj5Ha7deLEiZDOPZrnBiB4RA2As3Leeefp73//u6ZOnaqUlBQl\n",
              "JyfroYce0vz58zV37lwVFxfrzTff1IsvvqhLLrlEycnJmjJlij7++OOAn2PatGnKy8vTyJEjlZSU\n",
              "5Pvto7MVzXMDEDyHMcZEehIAAABni1dqAACAFYgaAABgBaIGAABYgagBAABWIGoAAIAViBoAAGAF\n",
              "ogYAAFhhUEXN0qVLIz0FAAAQJoMqaoJ5l1AAAHBuGVRRAwAA7EXUAAAAKxA1AADACkQNAACwAlED\n",
              "AACsQNQAAAArEDUAAMAKRA0AALACUQMAAKxA1AAAACsQNQAAwApEDQAAsAJRAwAArEDUAAAAKxA1\n",
              "AADACs5ITwAAAAycrAXrwvbYzY/9MGyPHQheqQEAAFYgagAAgBWIGgAAYAWiBgAAWIGoAQAAViBq\n",
              "AACAFYgaAABgBaIGAABYgagBAABWIGoAAIAViBoAAGAFogYAAFiBqAEAAFYgagAAgBXCGjXf//73\n",
              "NWbMGBUWFuq6667T9u3bJUlZWVnKy8tTYWGhCgsLtXLlSt99GhsbVVpaqtzcXBUXF2vXrl0BjQEA\n",
              "gMHNGc4HX7VqlZKSkiRJr7zyiioqKrRjxw5J0sqVK1VYWHjKfaqqqlRZWamKigqtXr1aFRUV2rJl\n",
              "yxnHAADA4BbWV2q+DhpJ6ujokMPh6PP4trY2bd26VdOnT5cklZWVqaWlRU1NTX2O9cbj8aizs9Nv\n",
              "83q9oVkYAACIOmG/pmbGjBnKyMjQI488opdeeslvf35+vmbOnKnPP/9cktTS0qK0tDQ5nSdfQHI4\n",
              "HHK5XHK73X2O9aampkaJiYl+2+bNm8O8WgAAEClhj5rly5erpaVFS5Ys0fz58yVJGzdu1M6dO7Vt\n",
              "2zalpKSovLw85M+7cOFCdXR0+G0lJSUhfx4AABAdwnpNzTeVl5fr/vvvV3t7u1wulyQpNjZWs2fP\n",
              "Vm5uriQpIyNDra2t6u7ultPplDFGbrdbLpdLCQkJpx3rTVxcnOLi4vz2xcTEhHeRAAAgYsL2Ss2R\n",
              "I0f02Wef+W7//ve/V3Jyss4//3wdOXLEt3/FihW66qqrJEmpqakqKipSfX29JGnNmjVKT09XTk5O\n",
              "n2MAAABhe6Wmo6NDU6dO1fHjxzVkyBBdfPHFeu2113To0CGVlZXJ6/XKGKPs7GwtX77cd7/a2lpV\n",
              "VFSourpaCQkJqqurC2gMAAAMbmGLmszMzNNemPv1+9X0Ji8vT5s2bQp6DAAADG68ozAAALACUQMA\n",
              "AKxA1AAAACsQNQAAwApEDQAAsAJRAwAArEDUAAAAKxA1AADACkQNAACwAlEDAACsQNQAAAArEDUA\n",
              "AMAKRA0AALACUQMAAKxA1AAAACsQNQAAwApEDQAAsAJRAwAArEDUAAAAKxA1AADACkQNAACwAlED\n",
              "AACsQNQAAAArEDUAAMAKRA0AALACUQMAAKxA1AAAACsQNQAAwApEDQAAsAJRAwAArEDUAAAAKxA1\n",
              "AADACkQNAACwAlEDAACsQNQAAAArEDUAAMAKRA0AALACUQMAAKwQ1qj5/ve/rzFjxqiwsFDXXXed\n",
              "tm/fLklqbGxUaWmpcnNzVVxcrF27dvnu098xAAAwuIU1alatWqWdO3eqoaFBc+bMUUVFhSSpqqpK\n",
              "lZWV2rt3r+bPn+/bfzZjAABgcAtr1CQlJfn+v6OjQw6HQ21tbdq6daumT58uSSorK1NLS4uampr6\n",
              "PQYAAOAM9xPMmDFDGzZskCT98Y9/VEtLi9LS0uR0nnxqh8Mhl8slt9utxMTEfo3l5OSc8rwej0ce\n",
              "j8dvn9frDedSAQBABIX9QuHly5erpaVFS5Ys0fz588P9dD41NTVKTEz02zZv3jxgzw8AAAbWgP32\n",
              "U3l5uTZs2KD09HS1traqu7tbkmSMkdvtlsvlUkZGRr/GerNw4UJ1dHT4bSUlJQOzWAAAMODCFjVH\n",
              "jhzRZ5995rv9+9//XsnJyUpNTVVRUZHq6+slSWvWrFF6erpycnL6PdabuLg4JSQk+G0xMTHhWi4A\n",
              "AIiwsF1T09HRoalTp+r48eMaMmSILr74Yr322mtyOByqra1VRUWFqqurlZCQoLq6Ot/9+jsGAAAG\n",
              "t7BFTWZm5mmvYcnLy9OmTZtCOgYAAAY33lEYAABYgagBAABWIGoAAIAViBoAAGAFogYAAFiBqAEA\n",
              "AFYgagAAgBWIGgAAYAWiBgAAWIGoAQAAViBqAACAFYgaAABgBaIGAABYgagBAABWIGoAAIAViBoA\n",
              "AGAFogYAAFiBqAEAAFYgagAAgBWIGgAAYAWiBgAAWIGoAQAAViBqAACAFYgaAABgBaIGAABYgagB\n",
              "AABWIGoAAIAViBoAAGAFogYAAFiBqAEAAFYgagAAgBWIGgAAYAWiBgAAWIGoAQAAViBqAACAFYga\n",
              "AABgBaIGAABYgagBAABWIGoAAIAVwhY1J06c0OTJk5Wbm6uCggLdfPPNampqkiTdcMMNuvTSS1VY\n",
              "WKjCwkI99dRTvvu1tbXplltu0ahRo3TllVdq48aNAY0BAIDBzRnOB6+srNStt94qh8OhZ599Vj/6\n",
              "0Y/0l7/8RZL01FNPafLkyafcZ8GCBRo3bpxef/11bdmyRXfeeacOHDig2NjYPscAAMDgFrZXas4/\n",
              "/3xNnDhRDodDkjRu3Dg1Nzef8X6rVq3S/fffL0kqLi7WyJEj9fbbb59x7Ns8Ho86Ozv9Nq/XG4KV\n",
              "AQCAaDRg19QsXbpUkyZN8t1esGCB8vPzNW3aNO3fv1+S1N7erq6uLo0YMcJ3XFZWltxud59jvamp\n",
              "qVFiYqLftnnz5jCtDgAARNqARE11dbWamppUU1MjSXrppZe0e/du7dy5U9ddd51uu+22kD/nwoUL\n",
              "1dHR4beVlJSE/HkAAEB0CHvUPPHEE1q7dq3Wr1+voUOHSpIyMjIkSQ6HQw8++KD279+v9vZ2JScn\n",
              "y+l06uDBg777Nzc3y+Vy9TnWm7i4OCUkJPhtMTExYVwpAACIpLBGzc9//nOtWLFCb775ppKSkiRJ\n",
              "3d3dOnTokO+YNWvWaPjw4UpOTpYkTZ06Vc8//7wkacuWLfr00081YcKEM44BAIDBLWy//fTJJ59o\n",
              "7ty5ys7O1o033ijp5Ksnf/7zn/XDH/5QHo9HQ4YMUUpKiv7whz/47vf444/r3nvv1ahRo3Teeeep\n",
              "vr7e99tNfY0BAIDBLWxRk56eLmNMr2Nbt2497f2GDx+uN954I+gxAAAwuPGOwgAAwApEDQAAsAJR\n",
              "AwAArEDUAAAAKxA1AADACkQNAACwAlEDAACsQNQAAAArEDUAAMAKRA0AALACUQMAAKxA1AAAACsQ\n",
              "NQAAwApEDQAAsAJRAwAArEDUAAAAKxA1AADACkQNAACwAlEDAACsQNQAAAArEDUAAMAKRA0AALAC\n",
              "UQMAAKwQdNT8z//8TzjmAQAAcFaCjprFixcrLy9PS5cuVWdnZzjmBAAAELSgo+Z///d/9bvf/U4f\n",
              "fvihcnNz9cADD+ijjz4Kx9wAAAAC1q9raq666iq9+OKLev311/Xaa69pzJgxuvnmm/W3v/0t1PMD\n",
              "AAAISL+i5k9/+pMmTZqku+66Sz/96U918OBBVVVV6c477wz1/AAAAALiDPYO3/3ud5WSkqJZs2bp\n",
              "rrvuUkxMjCRpypQpWrZsWcgnCAAAEIigo6a+vl5jx47tdWz9+vVnPSEAAID+CPrHTx988IEOHz7s\n",
              "u93e3q4XX3wxpJMCAAAIVtBR89xzz+miiy7y3U5OTtZzzz0X0kkBAAAEK+gfPxljTtnn9XpDMplz\n",
              "WdaCdWF53ObHfhiWxwUAwDZBv1KTlpamVatW+W6vXLlSaWlpIZ0UAABAsIJ+pebpp5/WpEmTNG/e\n",
              "PEnS0KFD9eqrr4Z8YgAAAMEIOmouv/xyffTRR9qzZ48kKS8vz/dr3QAAAJESdNRIksPhUFJSkrq7\n",
              "u/Xpp59KklwuV0gnBgAAEIygo+Y3v/mNZs2apdjYWA0ZcvKSHIfDoba2tpBPDgAAIFBBR82///u/\n",
              "a8uWLcrLywvHfAAAAPol6N9+SklJCShoTpw4ocmTJys3N1cFBQW6+eab1dTUJElqa2vTLbfcolGj\n",
              "RunKK6/Uxo0bfffr7xgAABjcgo6ayZMn6+mnn1ZbW5s6Ozt9W28qKyu1Z88e7dixQ5MmTdKPfvQj\n",
              "SdKCBQs0btw4NTY2qq6uTvfcc4+6urrOagwAAAxuQf/46eGHH5YkzZkzRw6HQ8YYORyOU96A7/zz\n",
              "z9fEiRN9t8eNG6cnnnhCkrRq1SrfqzbFxcUaOXKk3n77bX3ve9/r99i3eTweeTwev328SSAAAPYK\n",
              "+pWanp4e3+b1en3/PZOlS5dq0qRJam9vV1dXl0aMGOEby8rKktvt7vdYb2pqapSYmOi3bd68Odjl\n",
              "AgCAc0TQUSOd/FDLl156SZJ05MgRtba29nl8dXW1mpqaVFNT05+n65eFCxeqo6PDbyspKRmw5wcA\n",
              "AAOrXx9oed999+nRRx+VdPJTuu+5557THv/EE09o7dq1Wr9+vYYOHark5GQ5nU4dPHjQd0xzc7Nc\n",
              "Lle/x3oTFxenhIQEv403CQQAwF5BR80LL7yg9957TwkJCZKkyy67TJ9//nmvx/785z/XihUr9Oab\n",
              "byopKcm3f+rUqXr++eclSVu2bNGnn36qCRMmnNUYAAAY3IK+UDguLk4XXHCB/4M4T32YTz75RHPn\n",
              "zlV2drZuvPFG333ff/99Pf7447r33ns1atQonXfeeaqvr1dsbKwk9XsMAAAMbkFHzcUXX6y9e/fK\n",
              "4XBIOvkOw739CCg9PV3GmF4fY/jw4XrjjTdCOgYAAAa3fn1K9913363du3crIyNDCQkJeu2118Ix\n",
              "NwAAgIAFHTU5OTl6//33tWfPHhlj+JRuAAAQFYKOmq/fF+bCCy+UJD6lGwAARIWgo2bs2LG+dxI+\n",
              "ceKE/u///k/Jycl8SjcAAIiooKPm27++vXbtWu3YsSNkEwIAAOiPfr2j8DfdddddWrduXSjmAgAA\n",
              "0G9Bv1LzzU/k9nq9ev/990/7Kd0AAAADJeioSUpK8l1TExMTo1GjRukXv/hFOOYGAAAQsKCjpqen\n",
              "JxzzAAAAOCtnfU0NAABANAj6lZohQ4b4PiLhm4wxcjgc8nq9IZkYAABAMIKOmsWLF+v48eP6yU9+\n",
              "Ikl6/vnndcEFF2j27NmhnhsAAEDAgo6aV155RR988IHv9pIlSzR27Fg9/PDDIZ0YAABAMIK+pubo\n",
              "0aN+7x7c1tamo0ePhnRSAAAAwQr6lZq5c+eqoKBAEydOlCS9/vrrevTRR0M9LwAAgKAEHTVVVVUa\n",
              "P368NmzYIEmaM2eORo8eHfKJAQAABCPoqJGk5ORk5efn64YbblB3d7e++uornXfeeaGeGwAAQMCC\n",
              "vqZm9erVGjdunP7pn/5JkrRr1y5Nnjw51PMCAAAIStBRU1NTo23btikpKUmSVFBQoI8//jjU8wIA\n",
              "AAhK0FETExOj5ORkv3386AkAAERa0FEzbNgwHTp0yPeuwm+99ZYuuuiikE8MAAAgGEFfKPz444/r\n",
              "1ltv1f79+3XttdfqwIEDWrduXTjmBgAAELCgoqanp0der1cbNmzQX//6VxljVFpa6ru+BgAAIFKC\n",
              "ipohQ4aosrJSO3bs0K233hquOQEAAAQt6GtqRo0apaampnDMBQAAoN+Cvqbm8OHDKiwsVGlpqeLj\n",
              "4337165dG9KJAQAABCPgqKmsrNQLL7yg8vJy3XHHHfrOd74TznkBAAAEJeCo2bp1qySpvLxcRUVF\n",
              "2rZtW9gmBQAAEKygr6mRJGNMqOcBAABwVgJ+peb48eP629/+JmOMTpw44fv/r40ZMyYsEwQAAAhE\n",
              "UFFzxx13+G5/8/8dDof2798f2pkBAAAEIeCoaW5uDuM0AAAAzk6/rqkBAACINkQNAACwAlEDAACs\n",
              "QNQAAAArEDUAAMAKRA0AALACUQMAAKwQ1qiZNWuWsrKy5HA41NDQ4NuflZWlvLw8FRYWqrCwUCtX\n",
              "rvSNNTY2qrS0VLm5uSouLtauXbsCGgMAAINbWKNmypQpevfdd5WZmXnK2MqVK9XQ0KCGhgZNmzbN\n",
              "t7+qqkqVlZXau3ev5s+fr4qKioDGAADA4BbWqLn++uuVnp4e8PFtbW3aunWrpk+fLkkqKytTS0uL\n",
              "mpqa+hzrjcfjUWdnp9/m9XrPflEAACAqReyamhkzZig/P18zZ87U559/LklqaWlRWlqanM6Tn97g\n",
              "cDjkcrnkdrv7HOtNTU2NEhMT/bbNmzcPzOIAAMCAi0jUbNy4UTt37tS2bduUkpKi8vLykD/HwoUL\n",
              "1dHR4beVlJSE/HkAAEB0CPgDLUPJ5XJJkmJjYzV79mzl5uZKkjIyMtTa2qru7m45nU4ZY+R2u+Vy\n",
              "uZSQkHDasd7ExcUpLi7Ob19MTEx4FwYAACJmwF+p+fLLL3XkyBHf7RUrVuiqq66SJKWmpqqoqEj1\n",
              "9fWSpDVr1ig9PV05OTl9jgEAAIT1lZqqqiqtW7dOBw8e1A9+8AMNGzZMb7zxhsrKyuT1emWMUXZ2\n",
              "tpYvX+67T21trSoqKlRdXa2EhATV1dUFNAYAAAa3sEZNbW1tr/u3b99+2vvk5eVp06ZNQY8BAIDB\n",
              "jXcUBgAAViBqAACAFYgaAABgBaIGAABYgagBAABWIGoAAIAViBoAAGAFogYAAFiBqAEAAFYgagAA\n",
              "gBWIGgAAYAWiBgAAWIGoAQAAViBqAACAFYgaAABgBaIGAABYgagBAABWIGoAAIAViBoAAGAFogYA\n",
              "AFiBqAEAAFYgagAAgBWIGgAAYAWiBgAAWIGoAQAAViBqAACAFYgaAABgBaIGAABYgagBAABWIGoA\n",
              "AIAViBoAAGAFogYAAFiBqAEAAFYgagAAgBWIGgAAYAWiBgAAWIGoAQAAViBqAACAFcIaNbNmzVJW\n",
              "VpYcDocaGhp8+xsbG1VaWqrc3FwVFxdr165dZz0GAAAGt7BGzZQpU/Tuu+8qMzPTb39VVZUqKyu1\n",
              "d+9ezZ8/XxUVFWc9BgAABrewRs3111+v9PR0v31tbW3aunWrpk+fLkkqKytTS0uLmpqa+j0GAADg\n",
              "HOgnbGlpUVpampzOk0/tcDjkcrnkdruVmJjYr7GcnJxTnsfj8cjj8fjt83q9YV4dAACIFGsvFK6p\n",
              "qVFiYqLftnnz5khPCwAAhMmAR01GRoZaW1vV3d0tSTLGyO12y+Vy9XusNwsXLlRHR4ffVlJSMjCL\n",
              "BAAAA27AoyY1NVVFRUWqr6+XJK1Zs0bp6enKycnp91hv4uLilJCQ4LfFxMQMzCIBAMCAC+s1NVVV\n",
              "VVq3bp0OHjyoH/zgBxo2bJiamppUW1uriooKVVdXKyEhQXV1db779HcMAAAMbmGNmtra2l735+Xl\n",
              "adOmTSEdAwAAg5u1FwoDAIDBhagBAABWIGoAAIAViBoAAGAFogYAAFiBqAEAAFYgagAAgBWIGgAA\n",
              "YAWiBgAAWIGoAQAAViBqAACAFYgaAABgBaIGAABYgagBAABWIGoAAIAViBoAAGAFogYAAFiBqAEA\n",
              "AFYgagAAgBWIGgAAYAWiBgAAWIGoAQAAViBqAACAFYgaAABgBaIGAABYgagBAABWIGoAAIAViBoA\n",
              "AGAFogYAAFiBqAEAAFYgagAAgBWIGgAAYAWiBgAAWIGoAQAAViBqAACAFYgaAABgBaIGAABYgagB\n",
              "AABWIGoAAIAVIhY1WVlZysvLU2FhoQoLC7Vy5UpJUmNjo0pLS5Wbm6vi4mLt2rXLd5++xgAAwOAW\n",
              "0VdqVq5cqYaGBjU0NGjatGmSpKqqKlVWVmrv3r2aP3++KioqfMf3NQYAAAa3qPrxU1tbm7Zu3arp\n",
              "06dLksrKytTS0qKmpqY+xwAAAJyRfPIZM2bIGKOSkhI99thjamlpUVpampzOk9NyOBxyuVxyu91K\n",
              "TEw87VhOTs4pj+3xeOTxePz2eb3e8C8KAABERMReqdm4caN27typbdu2KSUlReXl5SF9/JqaGiUm\n",
              "JvptmzdvDulzAACA6BGxqHG5XJKk2NhYzZ49W++8844yMjLU2tqq7u5uSZIxRm63Wy6Xq8+x3ixc\n",
              "uFAdHR1+W0lJycAsDgAADLiIRM2XX36pI0eO+G6vWLFCV111lVJTU1VUVKT6+npJ0po1a5Senq6c\n",
              "nJw+x3oTFxenhIQEvy0mJibsawMAAJERkWtqDh06pLKyMnm9XhljlJ2dreXLl0uSamtrVVFRoerq\n",
              "aiUkJKiurs53v77GAADA4BaRqMnOztb27dt7HcvLy9OmTZuCHgMAAINbVP1KNwAAQH8RNQAAwApE\n",
              "DQAAsAJRAwAArEDUAAAAKxA1AADACkQNAACwAlEDAACsQNQAAAArEDUAAMAKRA0AALACUQMAAKxA\n",
              "1AAAACsQNQAAwApEDQAAsAJRAwAArEDUAAAAKxA1AADACkQNAACwAlEDAACsQNQAAAArEDUAAMAK\n",
              "RA0AALACUQMAAKxA1AAAACsQNQAAwApEDQAAsAJRAwAArEDUAAAAKxA1AADACkQNAACwAlEDAACs\n",
              "QNQAAAArEDUAAMAKRA0AALACUQMAAKxA1AAAACsQNQAAwApEDQAAsMI5FzWNjY0qLS1Vbm6uiouL\n",
              "tWvXrkhPCQAARIFzLmqqqqpUWVmpvXv3av78+aqoqIj0lAAAQBQ4p6Kmra1NW7du1fTp0yVJZWVl\n",
              "amlpUVNT0ynHejwedXZ2+m1er3egpwwAAAaIM9ITCEZLS4vS0tLkdJ6ctsPhkMvlktvtVk5Ojt+x\n",
              "NTU1+tnPfua37/LLL9ecOXNCPi+v16u0zZtVUlKimJiYkD72nDlvhfTx+sPr9WpzmNYXLWxfI+s7\n",
              "99m+RtY3cO4K0+N6vV5dc82SsKwxMzNTDz300BmPcxhjTEifOYw++OAD3XPPPdqzZ49vX0lJiR57\n",
              "7DHddNNNfsd6PB55PB6/fXFxcYqLiwv5vDo7O5WYmKiOjg4lJCSE/PEjzfb1SfavkfWd+2xfI+s7\n",
              "90XDGs+pV2oyMjLU2tqq7u5uOZ1OGWPkdrvlcrlOOTZcAQMAAKLTOXVNTWpqqoqKilRfXy9JWrNm\n",
              "jdLT00/50RMAABh8zqlXaiSptrZWFRUVqq6uVkJCgurq6iI9JQAAEAXOuajJy8vTpk2bIj0NP3Fx\n",
              "cVq0aJG1P+6yfX2S/Wtkfec+29fI+s590bDGc+pCYQAAgNM5p66pAQAAOB2iBgAAWIGoAQAAViBq\n",
              "AACAFYiaAK1bt05jx45VXFycZs+e3eexfX2SeLR+ynhPT4/++Z//WZdddplycnL07LPP9npce3u7\n",
              "CgsLfVtubq6cTqcOHz4sSbrhhht06aWX+safeuqpgVxGnwJdoyRlZWUpLy/Pt46VK1f6xs71c3ji\n",
              "xAlNnjxZubm5Kigo0M033+z3+WnRdg4D/XovW7ZMo0aN0mWXXaYf//jH6urqCmgs0gJZ35///GeV\n",
              "lJToiiuu0OjRozVv3jz19PRIkpqbmxUTE+P3fblv376BXsZpBbK+v/zlL7rgggv81nD8+HHfeDSf\n",
              "PymwNdbV1fmtLyUlRXfddfIDC6L9HM6aNUtZWVlyOBxqaGg47XFR8T1oEJA9e/aYhoYG8/DDD5uH\n",
              "Hnqoz2NvvPFGU1dXZ4wx5uWXXzZXX311QGOR9N///d/mpptuMt3d3aa9vd24XC7z4YcfnvF+//mf\n",
              "/2luu+023+0JEyaYV155JYwz7b9g1piZmWm2b9/e69i5fg6PHz9u1q1bZ3p6eowxxjzzzDNmwoQJ\n",
              "vvFoO4eBfL33799v0tLSTGtrq+np6TG33367efbZZ884Fg0CWd+2bdvMvn37jDEnz9/48eN99zlw\n",
              "4IBJTEwcoNkGL5D1bdiwwRQUFPR6/2g/f8b07++E0aNHm9WrVxtjov8cvv3226alpaXPvxej5XuQ\n",
              "qAnSokWL+oyaQ4cOmWHDhpmuri5jjDE9PT1m+PDhprGxsc+xSJs4caJZsWKF7/a//uu/mocffviM\n",
              "97v88sv9/gGMtn8QvymYNZ7um9fGc7hlyxaTmZnpux1N5zDQr/d//Md/mKqqKt/tdevWmfHjx59x\n",
              "LNL6++fppz/9qVm0aJExJrr/QQx0fX1FTTSfP2P6dw7fe+89c/HFF5uvvvrKGBPd5/Cb+oqaaPke\n",
              "5MdPIdbXJ4n3NRZpbrdbmZmZvttZWVlnnNdf//pXffHFF7rtttv89i9YsED5+fmaNm2a9u/fH5b5\n",
              "9kewa5wxY4by8/M1c+ZMff7555L6Pr+R1p9zKElLly7VpEmT/PZFyzkM9Ovd19r7+3UZCP3583Tw\n",
              "4EGtXr3a7/vuyy+/VHFxsYqKirR48WJ5vd6wzz0Qwaxv3759KioqUnFxsZ577jnf/mg+f1L/zuGy\n",
              "Zct07733KjY21rcvWs9hoKLle/Cce0fhcLnmmmvU2NjY69j27duVkZExwDMKrTOtrz+WLVumGTNm\n",
              "+L6ZJemll15SRkaGjDH65S9/qdtuu00fffRRvx4/WKFc48aNG+VyudTV1aV/+7d/U3l5uf74xz+G\n",
              "Ypr9Fo5zWF1draamJr311lu+fZE8h+hbZ2enbr/9ds2bN09XX321JCktLU2ffvqpUlNTdfjwYU2b\n",
              "Nk1PPvmk5s2bF+HZBq6oqEiffPKJEhMT9cknn2jixIlKSUnRP/zDP0R6aiH35Zdf6ne/+53ee+89\n",
              "3z4bzmG04JWa/2/Tpk36+9//3usWTNB885PEJfl9knhfY+F2pvW5XC59/PHHvuObm5v7nNexY8e0\n",
              "atUq3XfffX77v/5aORwOPfjgg9q/f7/a29vDs6hvCeUav94fGxur2bNn65133pHU9/kNt1Cfwyee\n",
              "eEJr167V+vXrNXToUN/+SJ7Dbwv0693X2oP9ugykYP48HT16VLfccosmTZqkOXPm+PbHxcUpNTVV\n",
              "knTRRRfpvvvu8/15jbRA15eQkKDExERJUnp6uu6++27fGqL5/EnB/53w8ssva/To0briiit8+6L5\n",
              "HAYqar4Hw/JDLYud6ZoaY05ek/DNi8bGjh0b0Fgk1dXVnXKR6c6dO097/H/913+d8jPRrq4uc/Dg\n",
              "Qd/t1atXG5fLFbY5ByvQNR47dsx88cUXvttPPvmkue6663y3bTiHTz75pCkqKjKHDx/22x+N5zCQ\n",
              "r/e+fftOuRDxmWeeOeNYNAhkfUePHjWlpaXmZz/72Sljhw4d8l2bceLECTNlyhTzyCOPhHXOwQhk\n",
              "fZ999pnxer3GGGM6OztNaWmpWbZsmTEm+s+fMcH9nXDttdeaF1980W9ftJ/Dr/V1TU20fA8SNQH6\n",
              "05/+ZC655BIzbNgwEx8fby655BLz6quvGmOMefXVV83MmTN9x+7evduMGzfOjBo1yowdO9bvH5a+\n",
              "xiKpu7vbPPDAA+bSSy812dnZ5umnn/aNfXt9xhhzzTXXmF//+td++44dO2bGjh1rrrzySjNmzBhz\n",
              "0003mYaGhgGZfyACXeO+fftMYWGhyc/PN1deeaW54447zIEDB3zHnuvnsKWlxUgy2dnZpqCgwBQU\n",
              "FJiSkhJjTHSew9N9vWfOnOn7HjTGmBdeeMFkZ2eb7Oxsc9999/n+kTjTWKQFsr4lS5YYp9PpO18F\n",
              "BQVmyZIlxhhj1qxZY0aPHm3GjBljrrjiCvPggw+aEydORGw93xbI+p555hlzxRVX+NawaNEi32/n\n",
              "GRPd58+YwP+M7t6928THx5vOzk6/+0f7OaysrDSXXHKJiYmJMampqeayyy4zxkTn9yAfaAkAAKzA\n",
              "NTUAAMAKRA0AALACUQMAAKxA1AAAACsQNQAAwApEDQAAsAJRAwAArEDUAAAAKxA1AADACkQNAACw\n",
              "wv8DKRffi+rOhhUAAAAASUVORK5CYII=\n",
              "\">\n",
              "      </div>\n",
              "      <script type=\"text/javascript\">\n",
              "        (() => {\n",
              "          const chartElement = document.getElementById(\"chart-a9dcb7b9-9d8f-4738-b61e-a8d5c82214f6\");\n",
              "          async function getCodeForChartHandler(event) {\n",
              "            const chartCodeResponse =  await google.colab.kernel.invokeFunction(\n",
              "                'getCodeForChart', [\"chart-a9dcb7b9-9d8f-4738-b61e-a8d5c82214f6\"], {});\n",
              "            const responseJson = chartCodeResponse.data['application/json'];\n",
              "            await google.colab.notebook.addCell(responseJson.code, 'code');\n",
              "          }\n",
              "          chartElement.onclick = getCodeForChartHandler;\n",
              "        })();\n",
              "      </script>\n",
              "      <style>\n",
              "        .colab-quickchart-chart-with-code  {\n",
              "            display: block;\n",
              "            float: left;\n",
              "            border: 1px solid transparent;\n",
              "        }\n",
              "\n",
              "        .colab-quickchart-chart-with-code:hover {\n",
              "            cursor: pointer;\n",
              "            border: 1px solid #aaa;\n",
              "        }\n",
              "      </style>"
            ]
          },
          "metadata": {}
        },
        {
          "output_type": "display_data",
          "data": {
            "text/plain": [
              "<google.colab._quickchart_helpers.SectionTitle at 0x7bd47b1192d0>"
            ],
            "text/html": [
              "<h4 class=\"colab-quickchart-section-title\">Values</h4>\n",
              "<style>\n",
              "  .colab-quickchart-section-title {\n",
              "      clear: both;\n",
              "  }\n",
              "</style>"
            ]
          },
          "metadata": {}
        },
        {
          "output_type": "display_data",
          "data": {
            "text/plain": [
              "from matplotlib import pyplot as plt\n",
              "df['Sentiment'].plot(kind='line', figsize=(8, 4), title='Sentiment')\n",
              "plt.gca().spines[['top', 'right']].set_visible(False)"
            ],
            "text/html": [
              "      <div class=\"colab-quickchart-chart-with-code\" id=\"chart-b1a0e0ea-8f02-40a1-971e-7f968541713d\">\n",
              "        <img style=\"width: 180px;\" src=\"data:image/png;base64,iVBORw0KGgoAAAANSUhEUgAAArIAAAFuCAYAAAB9bftJAAAAOXRFWHRTb2Z0d2FyZQBNYXRwbG90\n",
              "bGliIHZlcnNpb24zLjcuMSwgaHR0cHM6Ly9tYXRwbG90bGliLm9yZy/bCgiHAAAACXBIWXMAAA9h\n",
              "AAAPYQGoP6dpAAAsNUlEQVR4nO3de3SU9YH/8c9kJgy5hySEBJJJyA0FQi6alEsrsNatt6Ir0tgW\n",
              "JSoX9Wj14K7IaT1eTlc4v7W4btUVlWaPpU2pwHazrbY/L6jhSA1REIUiCWQyA+RCgFyBIZk8vz/c\n",
              "zq9ZwtXJ5Rvfr3Oec5zn+53n+T55OuF9ppPEZlmWJQAAAMAwIUO9AAAAAOBSELIAAAAwEiELAAAA\n",
              "IxGyAAAAMBIhCwAAACMRsgAAADASIQsAAAAjEbIAAAAwEiELAAAAIxGyADBMeTweRUZG6sCBA0O9\n",
              "FAAYlghZALgAdXV1+v73v6/x48crMjJS48eP1/XXX6+GhoagHP+JJ57QN7/5zT77XC6XOjs7lZGR\n",
              "EZRzXKr+1gYAwwEhCwAX4Prrr1dUVJQ+//xzdXZ2aseOHSopKZHNZhvqpQHA1xYhCwDncfToUe3d\n",
              "u1f33HOP4uLiJEnjxo3TokWLlJSUJEn66KOPNGfOHMXHxystLU2PPfaYenp6Asew2Wz6+c9/rlmz\n",
              "ZikyMlK5ubnaunWrJOlXv/qVnn76aW3btk2RkZGKjIxUZWWl3G63bDabamtrJUn/8R//oZSUFL34\n",
              "4otKS0tTRESESktL1dHRoXvvvVfx8fFKTk7W2rVr+6x/INYGAMOCBQA4r9zcXOvKK6+0fvGLX1if\n",
              "fvqp5ff7A2N79+61IiIirPLycqu7u9tyu93WtGnTrJ/+9KeBOZKsadOmWTU1NVZ3d7f14IMPWi6X\n",
              "KzD++OOPW7Nmzepzzrq6OkuSVVNTY1mWZZWVlVl2u916+OGHrZMnT1r79++3xowZY11++eXW5s2b\n",
              "rZ6eHuv111+3HA6H5fF4BnRtADAc8I4sAFyALVu26LrrrtO///u/q7i4WAkJCfrHf/xH+Xw+vfDC\n",
              "C/rud7+r2267TQ6HQ2lpaXrkkUdUVlbW5xgPP/ywsrKy5HA4tGTJEnk8HjU1NV3UOhwOh1atWqXR\n",
              "o0crIyNDs2fPVmpqqv7hH/5Bdrtdt956q8LCwvTJJ59I0qCuDQAGm2OoFwAAJoiPj9dTTz2lp556\n",
              "Sj6fT2+++aYWLVqkyMhI1dTUaMuWLYqNjQ3M7+3tVW9vb59jjB8/PvDfERERkqSOjg6NGzfugteR\n",
              "kJCg0NDQPseJiYnpMyc8PFwdHR2SNKhrA4DBxjuyAHCRnE6nbr75Zn3729/WJ598oqSkJP3gBz9Q\n",
              "a2trYGtvb1dnZ+cFHzMkZGC+HQ/ntQHAV8V3JwA4j+PHj+vRRx/Vrl275PP55Pf79c4772jLli26\n",
              "6qqrdN9992njxo16/fXXdfr0afn9ftXW1uqPf/zjBZ8jKSlJHo9Hp06dCurah/PaAOCrImQB4DxG\n",
              "jRqllpYWLViwQAkJCYqPj9eDDz6oFStW6OGHH1ZRUZHeeustvfLKK5owYYLi4+N16623qr6+/oLP\n",
              "UVJSokmTJmn8+PGKjY0N/NaAr2o4rw0AviqbZVnWUC8CAAAAuFi8IwsAAAAjEbIAAAAwEiELAAAA\n",
              "IxGyAAAAMBIhCwAAACMRsgAAADASIQsAAAAjjdiQfe6554Z6CQAAABhAIzZkL+av1gAAAMA8IzZk\n",
              "AQAAMLIRsgAAADASIQsAAAAjEbIAAAAwEiELAAAAIxGyAAAAMBIhCwAAACMRsgAAADDSgITsj370\n",
              "I6Wnp8tms2nnzp1nnbdu3TplZ2crMzNTS5YsUXd39wWNAQAAAAMSsrfeequ2bt2qtLS0s86pq6vT\n",
              "Y489psrKStXW1qqpqUkvv/zyeccAAAAAaYBC9qqrrlJKSso552zcuFHz5s1TUlKSbDab7rnnHpWX\n",
              "l593DAAAAJAkx1Cd2OPx9HnHNj09XR6P57xj/fH5fPL5fH32+f3+IK+4f/5eS99bu00f1x/vd9xm\n",
              "k7LGRqqmuXNQ1gOMBKMcITrd0zvUy/haGBMequMnzv7RrZxxkdrXdP7vX/YQm/y9VjCXhiFweXK0\n",
              "/tLQPtTLwBC6+5sT9diNk4d6GRdsRPyw16pVqxQTE9Nnq6qqGrTzny1iJcmyRMQCF4mIHTznilhJ\n",
              "FxSxkojYEYKIxbqtdUO9hIsyZCHrcrlUX18feOx2u+Vyuc471p+VK1eqra2tz1ZcXDxwi/8bIbYv\n",
              "NwAAAAyuIQvZ+fPnq6KiQo2NjbIsSy+99JJuu+228471x+l0Kjo6us9mt9sH5TpsNpuunZo0KOcC\n",
              "AADA/zcgIbts2TKlpKTo4MGD+s53vqOsrCxJ0uLFi1VRUSFJysjI0JNPPqlZs2YpKytLY8eO1bJl\n",
              "y847BgAAAEiSzbKsEfnBpuXLl2vNmjWDcq77fvWx3viscVDOBQAAMJDcq28Y6iVcsBHxw14AAAD4\n",
              "+iFkAQAAYCRCFgAAAEYiZAEAAGAkQhYAAABGImQBAABgJEIWAAAARiJkAQAAYCRCFgAAAEYiZAEA\n",
              "AGAkQhYAAABGImQBAABgJEIWAAAARiJkAQAAYCRCFgAAAEYiZAEAAGAkQhYAAABGImQBAABgJEIW\n",
              "AAAARiJkAQAAYCRCFgAAAEYiZAEAAGAkQhYAAABGImQBAABgJEIWAAAARiJkAQAAYKQBCdmamhrN\n",
              "nDlTOTk5Kioq0u7du8+YU1ZWpvz8/MCWkJCgW265RZLkdrtlt9v7jO/fv38glgoAAABDOQbioMuW\n",
              "LdPSpUtVWlqqjRs3qrS0VNu3b+8z584779Sdd94ZeDx16lT98Ic/DDyOiorSzp07B2J5AAAAGAGC\n",
              "/o5sc3OzqqurtXDhQknS/Pnz5fV6VVtbe9bnfPTRR2pubta8efOCvRwAAACMUEEPWa/Xq+TkZDkc\n",
              "X77Za7PZ5HK55PF4zvqcdevW6fbbb1doaGhgX1dXl4qKilRYWKinnnpKfr//rM/3+Xxqb2/vs51r\n",
              "PgAAAMw35D/s1dXVpd/85je6++67A/uSk5N16NAhbd++XW+//bYqKyv1s5/97KzHWLVqlWJiYvps\n",
              "VVVVg7F8AAAADJGgh2xqaqoaGhrU09MjSbIsSx6PRy6Xq9/5r7/+uqZMmaLJkycH9jmdTiUmJkqS\n",
              "4uLidNddd6mysvKs51y5cqXa2tr6bMXFxUG8KgAAAAw3QQ/ZxMREFRYWav369ZKkTZs2KSUlRVlZ\n",
              "Wf3OX7duXZ93Y6UvP2fb3d0t6cuPDWzevFkFBQVnPafT6VR0dHSfzW63B+mKAAAAMBwNyEcL1q5d\n",
              "q7Vr1yonJ0erV69WWVmZJGnx4sWqqKgIzPviiy+0c+dOlZSU9Hn+1q1bVVBQoLy8PBUWFiopKUk/\n",
              "/vGPB2KpAAAAMNSA/PqtSZMmadu2bWfsf/XVV8+Y19HRcca8W265JfA7ZQEAAID+DPkPewEAAACX\n",
              "gpAFAACAkQhZAAAAGImQBQAAgJEIWQAAABiJkAUAAICRCFkAAAAYiZAFAACAkQhZAAAAGImQBQAA\n",
              "gJEIWQAAABiJkAUAAICRCFkAAAAYiZAFAACAkQhZAAAAGImQBQAAgJEIWQAAABiJkAUAAICRCFkA\n",
              "AAAYiZAFAACAkQhZAAAAGImQBQAAgJEIWQAAABiJkAUAAICRCFkAAAAYiZAFAACAkQYkZGtqajRz\n",
              "5kzl5OSoqKhIu3fvPmPOe++9p7CwMOXn5we2kydPBsbXrVun7OxsZWZmasmSJeru7h6IpQIAAMBQ\n",
              "AxKyy5Yt09KlS7Vv3z6tWLFCpaWl/c6bNGmSdu7cGdjCwsIkSXV1dXrsscdUWVmp2tpaNTU16eWX\n",
              "Xx6IpQIAAMBQQQ/Z5uZmVVdXa+HChZKk+fPny+v1qra29oKPsXHjRs2bN09JSUmy2Wy65557VF5e\n",
              "HuylAgAAwGBBD1mv16vk5GQ5HA5Jks1mk8vlksfjOWPu/v37VVhYqKKiIr344ouB/R6PR2lpaYHH\n",
              "6enp/T7/r3w+n9rb2/tsfr8/iFcFAACA4cYxVCcuLCzUwYMHFRMTo4MHD+r6669XQkKCvve97130\n",
              "sVatWqUnn3yyz77p06cHa6kAAAAYhoL+jmxqaqoaGhrU09MjSbIsSx6PRy6Xq8+86OhoxcTESJJS\n",
              "UlL0/e9/X5WVlZIkl8ul+vr6wFy3233G8//WypUr1dbW1mcrLi4O9qUBAABgGAl6yCYmJqqwsFDr\n",
              "16+XJG3atEkpKSnKysrqM6+hoUG9vb2SpI6ODv3+979XQUGBpC8/V1tRUaHGxkZZlqWXXnpJt912\n",
              "21nP6XQ6FR0d3Wez2+3BvjQAAAAMIwPyWwvWrl2rtWvXKicnR6tXr1ZZWZkkafHixaqoqJD0ZeDm\n",
              "5uYqLy9P06dP1zXXXKM777xTkpSRkaEnn3xSs2bNUlZWlsaOHatly5YNxFIBAABgKJtlWdZQL2Ig\n",
              "LF++XGvWrBmUc933q4/1xmeNg3IuAACAgeRefcNQL+GC8Ze9AAAAYCRCFgAAAEYiZAEAAGAkQhYA\n",
              "AABGImQBAABgJEIWAAAARiJkAQAAYCRCFgAAAEYiZAEAAGAkQhYAAABGImQBAABgJEIWAAAARiJk\n",
              "AQAAYCRCFgAAAEYiZAEAAGAkQhYAAABGImQBAABgJEIWAAAARiJkAQAAYCRCFgAAAEYiZAEAAGAk\n",
              "QhYAAABGImQBAABgJEIWAAAARiJkAQAAYCRCFgAAAEYakJCtqanRzJkzlZOTo6KiIu3evfuMOe++\n",
              "+66Ki4s1efJkTZkyRY888oh6e3slSW63W3a7Xfn5+YFt//79A7FUAAAAGGpAQnbZsmVaunSp9u3b\n",
              "pxUrVqi0tPSMOWPGjNFvfvMb7dmzRx9//LE+/PBDvfbaa4HxqKgo7dy5M7BlZmYOxFIBAABgqKCH\n",
              "bHNzs6qrq7Vw4UJJ0vz58+X1elVbW9tnXkFBgTIyMiRJo0ePVn5+vtxud7CXAwAAgBEq6CHr9XqV\n",
              "nJwsh8MhSbLZbHK5XPJ4PGd9TmNjozZu3Kgbb7wxsK+rq0tFRUUqLCzUU089Jb/ff9bn+3w+tbe3\n",
              "99nONR8AAADmG/If9mpvb9d3v/tdPfLII7ryyislScnJyTp06JC2b9+ut99+W5WVlfrZz3521mOs\n",
              "WrVKMTExfbaqqqrBugQAAAAMgaCHbGpqqhoaGtTT0yNJsixLHo9HLpfrjLkdHR269tprddNNN2n5\n",
              "8uWB/U6nU4mJiZKkuLg43XXXXaqsrDzrOVeuXKm2trY+W3FxcZCvDAAAAMNJ0EM2MTFRhYWFWr9+\n",
              "vSRp06ZNSklJUVZWVp95nZ2duvbaa3XttdfqJz/5SZ+x5uZmdXd3S/ryYwObN29WQUHBWc/pdDoV\n",
              "HR3dZ7Pb7UG+MgAAAAwnA/LRgrVr12rt2rXKycnR6tWrVVZWJklavHixKioqJEnPPfecqqqqtHnz\n",
              "5sCv2Prnf/5nSdLWrVtVUFCgvLw8FRYWKikpST/+8Y8HYqkAAAAwlM2yLGuoFzEQli9frjVr1gzK\n",
              "ue771cd647PGQTkXAADAQHKvvmGol3DBhvyHvQAAAIBLQcgCAADASIQsAAAAjETIAgAAwEiELAAA\n",
              "AIxEyAIAAMBIhCwAAACMRMgCAADASIQsAAAAjETIAgAAwEiELAAAAIxEyAIAAMBIhCwAAACMRMgC\n",
              "AADASIQsAAAAjETIAgAAwEiELAAAAIxEyAIAAMBIhCwAAACMRMgCAADASIQsAAAAjETIAgAAwEiE\n",
              "LAAAAIxEyAIAAMBIhCwAAACMRMgCAADASAMSsjU1NZo5c6ZycnJUVFSk3bt39ztv3bp1ys7OVmZm\n",
              "ppYsWaLu7u4LGgMAAAAGJGSXLVumpUuXat++fVqxYoVKS0vPmFNXV6fHHntMlZWVqq2tVVNTk15+\n",
              "+eXzjgEAAADSAIRsc3OzqqurtXDhQknS/Pnz5fV6VVtb22fexo0bNW/ePCUlJclms+mee+5ReXn5\n",
              "eccAAAAASXIE+4Ber1fJyclyOL48tM1mk8vlksfjUVZWVmCex+NRWlpa4HF6ero8Hs95x/rj8/nk\n",
              "8/n67PP7/UG5HgAAAAxPI+KHvVatWqWYmJg+W1VV1VAvCwAAAAMo6CGbmpqqhoYG9fT0SJIsy5LH\n",
              "45HL5eozz+Vyqb6+PvDY7XYH5pxrrD8rV65UW1tbn624uDiYlwUAAIBhJughm5iYqMLCQq1fv16S\n",
              "tGnTJqWkpPT5WIH05WdnKyoq1NjYKMuy9NJLL+m2224771h/nE6noqOj+2x2uz3YlwYAAIBhZEA+\n",
              "WrB27VqtXbtWOTk5Wr16tcrKyiRJixcvVkVFhSQpIyNDTz75pGbNmqWsrCyNHTtWy5YtO+8YAAAA\n",
              "IEk2y7KsoV7EQFi+fLnWrFkzKOe671cf643PGgflXAAAAAPJvfqGoV7CBRsRP+wFAACArx9CFgAA\n",
              "AEYiZAEAAGAkQhYAAABGImQBAABgJEIWAAAARiJkAQAAYCRCFgAAAEYiZAEAAGAkQhYAAABGImQB\n",
              "AABgJEIWAAAARiJkAQAAYCRCFgAAAEYiZAEAAGAkQhYAAABGImQBAABgJEIWAAAARiJkAQAAYCRC\n",
              "FgAAAEYiZAEAAGAkQhYAAABGImQBAABgJEIWAAAARiJkAQAAYCRCFgAAAEYKasj29vbqgQceUGZm\n",
              "prKysvT888/3O+/UqVO6+eablZOTo7y8PF1zzTWqra0NjM+ZM0cTJ05Ufn6+8vPz9eyzzwZzmQAA\n",
              "ABgBHME82Pr167Vnzx7t27dPbW1tKigo0Ny5czVlypQz5i5dulTXXXedbDabnn/+eS1evFjvvfde\n",
              "YPzZZ5/VzTffHMzlAQAAYAQJ6juyGzZs0JIlS2S32xUXF6eSkhKVl5efMW/06NG6/vrrZbPZJEnT\n",
              "p0+X2+0O5lIAAAAwwgU1ZD0ej9LS0gKP09PT5fF4zvu85557TjfddFOffY8++qhyc3NVUlKiAwcO\n",
              "nPP5Pp9P7e3tfTa/339pFwEAAAAjXNRHC2bMmKGampp+x3bs2HFJC3j66adVW1urd955J7Dvl7/8\n",
              "pVJTU2VZll544QXdeOON2rNnz1mPsWrVKj355JN99k2fPv2S1gMAAAAzXNQ7stu2bVNLS0u/W2pq\n",
              "qlwul+rr6wPz3W63XC7XWY/3zDPPaPPmzXrzzTcVHh4e2J+amipJstlsuv/++3XgwAEdPXr0rMdZ\n",
              "uXKl2tra+mzFxcUXc2kAAAAwTFA/WrBgwQK98sor8vv9OnbsmDZs2KCSkpJ+565Zs0bl5eV66623\n",
              "FBsbG9jf09OjpqamwONNmzZp3Lhxio+PP+t5nU6noqOj+2x2uz1o1wUAAIDhJ6i/teD222/X9u3b\n",
              "lZ2dLZvNpuXLlys3N1eSVFFRoYqKCr366qs6ePCgHn74YWVkZGju3LmSvozRjz76SD6fTzfccIN8\n",
              "Pp9CQkKUkJCgioqKYC4TAAAAI0BQQ9Zut+uFF17od2zevHmaN2+eJCklJUWWZfU7LyIiQtXV1cFc\n",
              "FgAAAEYg/rIXAAAAjETIAgAAwEiELAAAAIxEyAIAAMBIhCwAAACMRMgCAADASIQsAAAAjETIAgAA\n",
              "wEiELAAAAIxEyAIAAMBIhCwAAACMRMgCAADASIQsAAAAjETIAgAAwEiELAAAAIxEyAIAAMBIhCwA\n",
              "AACMRMgCAADASIQsAAAAjETIAgAAwEiELAAAAIxEyAIAAMBIhCwAAACMRMgCAADASIQsAAAAjETI\n",
              "AgAAwEhBDdne3l498MADyszMVFZWlp5//vmzzk1PT9ekSZOUn5+v/Px8bdiwITBWU1OjmTNnKicn\n",
              "R0VFRdq9e3cwlwkAAIARwBHMg61fv1579uzRvn371NbWpoKCAs2dO1dTpkzpd/6GDRuUn59/xv5l\n",
              "y5Zp6dKlKi0t1caNG1VaWqrt27cHc6kAAAAwXFDfkd2wYYOWLFkiu92uuLg4lZSUqLy8/KKO0dzc\n",
              "rOrqai1cuFCSNH/+fHm9XtXW1gZzqQAAADBcUEPW4/EoLS0t8Dg9PV0ej+es8++44w7l5ubq7rvv\n",
              "1pEjRyRJXq9XycnJcji+fLPYZrPJ5XKd8zg+n0/t7e19Nr/fH6SrAgAAwHB0USE7Y8YMJSQk9Lt5\n",
              "vd6LOvEHH3ygXbt26ZNPPlFCQoIWLVp0Uc//W6tWrVJMTEyfraqq6pKPBwAAgOHvokJ227Ztamlp\n",
              "6XdLTU2Vy+VSfX19YL7b7ZbL5er3WH/dHxoaqoceekiVlZWSpNTUVDU0NKinp0eSZFmWPB7PWY8j\n",
              "SStXrlRbW1ufrbi4+GIuDQAAAIYJ6kcLFixYoFdeeUV+v1/Hjh3Thg0bVFJScsa8rq4utba2Bh6X\n",
              "l5eroKBAkpSYmKjCwkKtX79ekrRp0yalpKQoKyvrrOd1Op2Kjo7us9nt9mBeGgAAAIaZoP7Wgttv\n",
              "v13bt29Xdna2bDabli9frtzcXElSRUWFKioq9Oqrr6qpqUnz58+X3++XZVnKyMjQa6+9FjjO2rVr\n",
              "VVpaqqefflrR0dEqKysL5jIBAAAwAtgsy7KGehEDYfny5VqzZs2gnOu+X32sNz5rHJRzAQAADCT3\n",
              "6huGegkXjL/sBQAAACMRsgAAADASIQsAAAAjEbIAAAAwEiELAAAAIxGyAAAAMBIhCwAAACMRsgAA\n",
              "ADASIQsAAAAjEbIAAAAwEiELAAAAIxGyAAAAMBIhCwAAACMRsgAAADASIQsAAAAjEbIAAAAwEiEL\n",
              "AAAAIxGyAAAAMBIhCwAAACMRsgAAADASIQsAAAAjEbIAAAAwEiELAAAAIxGyAAAAMBIhCwAAACMR\n",
              "sgAAADBSUEO2t7dXDzzwgDIzM5WVlaXnn3++33lHjx5Vfn5+YMvJyZHD4dCxY8ckSXPmzNHEiRMD\n",
              "488++2wwlwkAAIARwBHMg61fv1579uzRvn371NbWpoKCAs2dO1dTpkzpMy8+Pl47d+4MPH7mmWf0\n",
              "/vvvKy4uLrDv2Wef1c033xzM5QEAAGAECeo7shs2bNCSJUtkt9sVFxenkpISlZeXn/d569at0913\n",
              "3x3MpQAAAGCEC2rIejwepaWlBR6np6fL4/Gc8zkffvihjh8/rhtvvLHP/kcffVS5ubkqKSnRgQMH\n",
              "znkMn8+n9vb2Ppvf77/0CwEAAMCwd1EhO2PGDCUkJPS7eb3eS1rAunXrdMcdd8jh+P+fcvjlL3+p\n",
              "vXv3ateuXfrWt751RuT+b6tWrVJMTEyfraqq6pLWAwAAADNcVMhu27ZNLS0t/W6pqalyuVyqr68P\n",
              "zHe73XK5XGc9Xmdnp37729/qrrvu6rM/NTVVkmSz2XT//ffrwIEDOnr06FmPs3LlSrW1tfXZiouL\n",
              "L+bSAAAAYJigfrRgwYIFeuWVV+T3+3Xs2DFt2LBBJSUlZ52/YcMG5eXl6bLLLgvs6+npUVNTU+Dx\n",
              "pk2bNG7cOMXHx5/1OE6nU9HR0X02u90enIsCAADAsBTU31pw++23a/v27crOzpbNZtPy5cuVm5sr\n",
              "SaqoqFBFRYVeffXVwPx169ZpyZIlfY7h8/l0ww03yOfzKSQkRAkJCaqoqAjmMgEAADACBDVk7Xa7\n",
              "XnjhhX7H5s2bp3nz5vXZ9+GHH54xLyIiQtXV1cFcFgAAAEYg/rIXAAAAjETIAgAAwEiELAAAAIxE\n",
              "yAIAAMBIhCwAAACMRMgCAADASIQsAAAAjETIAgAAwEiELAAAAIxEyAIAAMBIhCwAAACMRMgCAADA\n",
              "SIQsAAAAjETIAgAAwEiELAAAAIxEyAIAAMBIhCwAAACMRMgCAADASIQsAAAAjETIAgAAwEiELAAA\n",
              "AIxEyAIAAMBIhCwAAACMRMgCAADASIQsAAAAjETIAgAAwEhBDdk//OEPuuKKK+R0OvXQQw+dc25N\n",
              "TY1mzpypnJwcFRUVaffu3Rc0BgAAAEhBDtns7Gz94he/0D/90z+dd+6yZcu0dOlS7du3TytWrFBp\n",
              "aekFjQEAAABSkEM2JydHeXl5cjgc55zX3Nys6upqLVy4UJI0f/58eb1e1dbWnnMMAAAA+KtzF+cA\n",
              "8Xq9Sk5ODgSvzWaTy+WSx+NRTEzMWceysrL6PZ7P55PP5+uzz+/3D+xFAAAAYEhd1DuyM2bMUEJC\n",
              "Qr+b1+sdqDWe16pVqxQTE9Nnq6qqGrTzz8sbf87xH37DNUgrAUaG5JjRQ72Er42xUc5zjhdPjBuk\n",
              "lQAYDn50dfZQL+GiXNQ7stu2bQvKSVNTU9XQ0KCenh45HA5ZliWPxyOXy6Xo6Oizjp3NypUrtXz5\n",
              "8j77HnvssaCs9UJ8Z0qS/vv+bypsVIj+a+dhdfp6dEtBin7/2WHdNydLEaPsuil/gra7j+nNzxtU\n",
              "kDpGs7Li9dmhNs3MTNCH+1s0JnyU/uVPX2jZ7Ezta+xQTlKUbi1M0ZYvmhVqD5E9RDp0/KQ+qjum\n",
              "fFesvMdOKMRm031zslTX0qU9DW062nlanx5s07hopyKdDlmWNCYiVHabTQmRTv33rsNKHROujLER\n",
              "On6iWyljwmRZ0i//XK+ZmfG6bmqydh1s1f4jXfL1+LXgylRV7juiCKdDuRNi9P6+I6p2H9O3J4/T\n",
              "d/PG67Vt9RrtCNGBli5Fj3ao228pKzFSO7ytOtJ+Sq74cE0ZH6PwUXaNsofo88NtWnpVhmqbO3W4\n",
              "9ZSOdZ3W4daTSooZreKJcao/ekK5KTH6/acNstmkuIhRmpwcrdjwUO0/0qXjXafV02vpjhlpau7w\n",
              "6aX39qvD160r0+L03r4jKkiNVV5qjFxx4dr48SFV1R3VDdPGKy8lRq9tq9f42NFqaDulaSmxGhs5\n",
              "SgdautTc4dPehnbdUpiitPhwfdHYobBRdnmPnVRqXJg2bPdqds5YHTx+UvmpsXI6QrSvqVOdvm5d\n",
              "nhytq3LG6rODbaqsaVHxxDGanByj4ydOa2tNizp9PXKGhqj+6AldlT1Wh1pPyHPshK5IG6NQe4jC\n",
              "Qu16/eODamo7pW9kxCktPkLuli4lRo/WgSOdinQ61HqyWz9bkKcTp/164b1aRTkdctht8h47qcnj\n",
              "o1VVd0yXJ0fps0PtKvif9UWHhSpqtEM1TZ0aEx6q5g6fZmTG66O6YxplD1HHqR7tOtiq8bFh6vT1\n",
              "6LaiVO30tsoVF66kmNH6jw/duqVggt74rFE/vuFyJUY79euPPPrdjkPKHhellDFhOtLh01XZY3Wk\n",
              "06cvGjt09eWJ+rD2qDpP9+jQ8ZMqnhinb2UnaGtNi9774oiiwxwqdI1RWnyEHCE2JUSNUrX7uBrb\n",
              "Tmn2pLEqr/Jo6vgYNXf4NC0lRj/8Rpoa209p08cHlRw7WlPGx+hUt1//5497FR/plCsuXPPyxquq\n",
              "7pia2k9p/5FORYeFqrHtlO7/uyydOO3X54fadOsVKXp/3xGNDrWrrqVLmWMjVdvcqf/ccVDHu7o1\n",
              "/4oJmpWVoP3NXWo/1S1HiE3v7P3yNeeKC5MrLlwHj5+Ur6dXseGham73aXpGnHJTYvW7HYcU6XT8\n",
              "z9exWzVNnapt7tTsSWNlk00Lp7t04rRfv67y6IvGDuWMi9TUCTE63HpSnad6dLTrtE519yovJUZH\n",
              "u05r7mWJ+rC2RX/c3ajcCTGamZmg8bGj1XGqRxWfHpa7pUuPXneZmjt8SosPV2+vtP9Ip451nVZT\n",
              "+yl1+nrkiguXKy5c3f5ehY1y6L0vmnVZUpSuTI/TkQ6fwkfZZQ+xaXJytD4/3KZDraf0vStT5G45\n",
              "obXv71di9GhFjXYoPzVWtc2dSo0L01XZY/Wn3U165v9+ofBRdv34hssV6XTo04NtOnXar8raFiVF\n",
              "O3VlWpz2NLQrfJRdVXXHFGKz6ZFrJ+mDmhbFhoXKc+yEXHHhynfFyrKkxCin3v5LkyYmROjNzxpV\n",
              "mBarqRNi9EVjh9pOdis/NVafeFpVVXdUS6/K1ItbalU8MU6tJ7vV22spZ1yUvMdPaEJsmCaMCdN7\n",
              "XxyRKy5cRzp86unt1V8aOnRF2hj9Q8EEhdpD9C9/2qvUMeG6dmqSNn5yUK1d3fr7KeP06488yk+N\n",
              "1dGu05Iky7L0Ud0x3TgtWTFhoZqZlaBPva2amBChg8dPKmVMmF7dWqeW//nf6g++kaYP97focOtJ\n",
              "ba87Lr9laVy0U41tp5QUM1pLr8pUS4dPW2tblDshRpGjHfIeO6Hrc5P1XzsP6/NDbYqLGKXEKKdC\n",
              "HSFKjhmt0aF2hY+y643PGhTpdGj34XY5HSGakRmvA0e+/B4xLtqpHZ7WwPfF2Tlj9ZeGdkWHhWpW\n",
              "Vrx83b36qO6Y3Ee7ZFnSt7ITND42TIdbT2prbYuuz03WhNgwfbDviDLGRujdvc369uXj5LDb9Pmh\n",
              "djW0nZSvu1dxEaMUGx6qj+uPq2hinN7be0STkqKUHh+uzw+3K3dCjD471KaUMWHac7hd1+cma7v7\n",
              "mEaH2nWo9aTaTnTrO1PGqf1Uj/Yf6dQoe4iaO3wqcMUqKWa03v1Ls5bNztQ7f2lSp69HY8JHKT0h\n",
              "QhWfHtZl46J0z5xMvbu3WY4Qm2w26WjnabWd7FZyzGj9usqjLl+Pnpg3RWPCR+nXVR7ZJB1uPamW\n",
              "ztO6Mm2M4iNH6dODbYoYZVfxxHjtOtiqaSmxqmnuUPvJblXXH1ek06FvXz5O7qNdKnSN0ZEOnz49\n",
              "2KrLkqI0Nsqpnd5W9fgt1bV06RsZ8fpg3xF1+3t1+4w07TncrrFRTh3p8GlM+Ch9XH9cKWPC5Ay1\n",
              "6+DxExoTPkrJMaOVkRChuqMn1GtZGhMeqtEOuz7xHJf76AktuDJFJ3x+RYc51NJxWqd6/PqvnYd1\n",
              "WVKU5l6WqPBQuxKjndp/pEuhdpucDrvcLV1y2G1Kih6tg8dPKjUuXLVHOpWfEqvdh9t0stuv9PgI\n",
              "+XstjY1yKiYsVPuaOtXccUpF6XHq9PVocnK0dniOa2tti6JGh6rT16O/uyxR987OHLR+CgabZVlW\n",
              "sA/6xBNPqLW1Vf/6r/961jlz5sxRaWmpSktLtXHjRq1evVrV1dXnHbtQy5cv15o1a77KZQAAAGAY\n",
              "C2rIvvPOO1q0aJHa29tlWZZiYmL04osvat68eaqoqFBFRYVeffVVSdIXX3yh0tJSHT16VNHR0Sor\n",
              "K1Nubu55xy4UIQsAADCyDcg7ssMBIQsAADCy8Ze9AAAAYCRCFgAAAEYiZAEAAGAkQhYAAABGImQB\n",
              "AABgJEIWAAAARiJkAQAAYCRCFgAAAEYiZAEAAGCkEfuXvW655Ralp6cPyrn8fr+qqqpUXFwsu90+\n",
              "KOdEX9yD4YH7MPS4B0OPezA8cB+G3oXcg7S0ND344IOXfI4RG7KDqb29XTExMWpra1N0dPRQL+dr\n",
              "iXswPHAfhh73YOhxD4YH7sPQG4x7wEcLAAAAYCRCFgAAAEYiZAEAAGAkQjYInE6nHn/8cTmdzqFe\n",
              "ytcW92B44D4MPe7B0OMeDA/ch6E3GPeAH/YCAACAkXhHFgAAAEYiZAEAAGAkQhYAAABGImS/opqa\n",
              "Gs2cOVM5OTkqKirS7t27h3pJI8aPfvQjpaeny2azaefOnYH95/qaX+oY+nfq1CndfPPNysnJUV5e\n",
              "nq655hrV1tZKkpqbm3XttdcqOztbU6dO1QcffBB43qWOoX9///d/r2nTpik/P1/f+ta3tGPHDkm8\n",
              "FoZCWVmZbDabfve730nidTDY0tPTNWnSJOXn5ys/P18bNmyQxGthMPl8Pt1///3Kzs5Wbm6uFi5c\n",
              "KGkI74GFr2Tu3LlWWVmZZVmW9frrr1tXXnnl0C5oBHn//fctr9drpaWlWTt27AjsP9fX/FLH0L+T\n",
              "J09af/jDH6ze3l7Lsizr5z//uTV79mzLsizrzjvvtB5//HHLsiyrqqrKmjBhgnX69OmvNIb+HT9+\n",
              "PPDfmzdvtqZNm2ZZFq+FwVZXV2fNmDHDmj59uvWf//mflmXxOhhs//vfg7/itTB4HnroIev+++8P\n",
              "/LvQ0NBgWdbQ3QNC9itoamqyoqKirO7ubsuyLKu3t9caN26cVVNTM8QrG1n+9hvXub7mlzqGC7d9\n",
              "+3YrLS3NsizLioiICHwDsyzLKioqst56662vNIbzKysrs/Ly8ngtDDK/329dffXVVnV1tTV79uxA\n",
              "yPI6GFz9hSyvhcHT2dlpRUVFWW1tbX32D+U9cATlfeavKa/Xq+TkZDkcX34ZbTabXC6XPB6PsrKy\n",
              "hnh1I9O5vuYxMTGXNMa9unDPPfecbrrpJh09elTd3d1KSkoKjKWnp8vj8VzyGM7tjjvu0JYtWyRJ\n",
              "b7zxBq+FQbZmzRrNmjVLV1xxRWAfr4Ohcccdd8iyLBUXF2v16tW8FgbR/v37FRcXp6efflpvv/22\n",
              "wsLC9MQTTyg2NnbI7gGfkQVwQZ5++mnV1tZq1apVQ72Ur6XXXntNXq9XP/3pT7VixYqhXs7Xyuef\n",
              "f65NmzbpJz/5yVAv5Wvvgw8+0K5du/TJJ58oISFBixYtGuolfa309PSovr5ekydPVnV1tf7t3/5N\n",
              "JSUl6unpGbI1EbJfQWpqqhoaGgI30LIseTweuVyuIV7ZyHWur/mljuH8nnnmGW3evFlvvvmmwsPD\n",
              "FR8fL4fDocbGxsAct9stl8t1yWO4MIsWLdKWLVuUkpLCa2GQVFZWyu12Kzs7W+np6frzn/+spUuX\n",
              "6re//S2vg0H2169RaGioHnroIVVWVvLvwiByuVwKCQnRD3/4Q0lSQUGBJk6cqPr6+iG7B4TsV5CY\n",
              "mKjCwkKtX79ekrRp0yalpKTwf0kMoHN9zS91DOe2Zs0alZeX66233lJsbGxg/4IFC/TSSy9JkrZv\n",
              "365Dhw5p9uzZX2kMZ2ptbdXhw4cDj3/3u98pPj6e18Iguvfee9XQ0CC32y23263p06fr5Zdf1r33\n",
              "3svrYBB1dXWptbU18Li8vFwFBQW8FgZRQkKCrr76av3pT3+SJNXV1amurk6zZs0auntwyZ/4hWVZ\n",
              "lrV3715r+vTpVnZ2tnXFFVdYu3btGuoljRhLly61JkyYYNntdisxMdHKzMy0LOvcX/NLHUP/vF6v\n",
              "JcnKyMiw8vLyrLy8PKu4uNiyLMtqbGy0rrnmGisrK8uaPHmy9e677waed6ljOJPb7baKioqsqVOn\n",
              "WtOmTbOuvvrqwA+78FoYGn/7w168DgbP/v37rfz8fCs3N9eaOnWqNW/ePKuurs6yLF4Lg2n//v3W\n",
              "nDlzAt+TNm7caFnW0N0Dm2VZVlBzHQAAABgEfLQAAAAARiJkAQAAYCRCFgAAAEYiZAEAAGAkQhYA\n",
              "AABGImQBAABgJEIWAAAARiJkAQAAYCRCFgAAAEYiZAEAAGAkQhYAAABG+n+tXR0q4HF55AAAAABJ\n",
              "RU5ErkJggg==\n",
              "\">\n",
              "      </div>\n",
              "      <script type=\"text/javascript\">\n",
              "        (() => {\n",
              "          const chartElement = document.getElementById(\"chart-b1a0e0ea-8f02-40a1-971e-7f968541713d\");\n",
              "          async function getCodeForChartHandler(event) {\n",
              "            const chartCodeResponse =  await google.colab.kernel.invokeFunction(\n",
              "                'getCodeForChart', [\"chart-b1a0e0ea-8f02-40a1-971e-7f968541713d\"], {});\n",
              "            const responseJson = chartCodeResponse.data['application/json'];\n",
              "            await google.colab.notebook.addCell(responseJson.code, 'code');\n",
              "          }\n",
              "          chartElement.onclick = getCodeForChartHandler;\n",
              "        })();\n",
              "      </script>\n",
              "      <style>\n",
              "        .colab-quickchart-chart-with-code  {\n",
              "            display: block;\n",
              "            float: left;\n",
              "            border: 1px solid transparent;\n",
              "        }\n",
              "\n",
              "        .colab-quickchart-chart-with-code:hover {\n",
              "            cursor: pointer;\n",
              "            border: 1px solid #aaa;\n",
              "        }\n",
              "      </style>"
            ]
          },
          "metadata": {}
        }
      ]
    },
    {
      "cell_type": "markdown",
      "source": [
        "## Separate Data"
      ],
      "metadata": {
        "id": "ZjvURMdSj_Or"
      }
    },
    {
      "cell_type": "code",
      "source": [
        "X = df.iloc[:,0]\n",
        "Y = df.iloc[:,1]\n",
        "Y"
      ],
      "metadata": {
        "colab": {
          "base_uri": "https://localhost:8080/"
        },
        "id": "yaa_nfh0HmYg",
        "outputId": "2adeedd2-bad6-4bdc-9186-8cfad44aa37c"
      },
      "execution_count": 5,
      "outputs": [
        {
          "output_type": "execute_result",
          "data": {
            "text/plain": [
              "0       1\n",
              "1       1\n",
              "2       1\n",
              "3       1\n",
              "4       1\n",
              "       ..\n",
              "5786   -1\n",
              "5787   -1\n",
              "5788    1\n",
              "5789    1\n",
              "5790    1\n",
              "Name: Sentiment, Length: 5791, dtype: int64"
            ]
          },
          "metadata": {},
          "execution_count": 5
        }
      ]
    },
    {
      "cell_type": "markdown",
      "source": [
        "## Count number of words"
      ],
      "metadata": {
        "id": "25QVeEhMhXtr"
      }
    },
    {
      "cell_type": "code",
      "source": [
        "tokenizer = Tokenizer()\n",
        "tokenizer.fit_on_texts(X)\n",
        "len(tokenizer.word_index)"
      ],
      "metadata": {
        "colab": {
          "base_uri": "https://localhost:8080/"
        },
        "id": "weI38mOjhW3z",
        "outputId": "38194dbe-c536-4d94-abe0-6048aee11592"
      },
      "execution_count": 6,
      "outputs": [
        {
          "output_type": "execute_result",
          "data": {
            "text/plain": [
              "10187"
            ]
          },
          "metadata": {},
          "execution_count": 6
        }
      ]
    },
    {
      "cell_type": "code",
      "source": [
        "X = tokenizer.texts_to_sequences(X)\n",
        "X[0]"
      ],
      "metadata": {
        "colab": {
          "base_uri": "https://localhost:8080/"
        },
        "id": "K1f48QdnhpNR",
        "outputId": "f3bac022-bf8b-4437-ff4a-61bcf547e010"
      },
      "execution_count": 8,
      "outputs": [
        {
          "output_type": "execute_result",
          "data": {
            "text/plain": [
              "[4613,\n",
              " 4,\n",
              " 48,\n",
              " 443,\n",
              " 3254,\n",
              " 4614,\n",
              " 4615,\n",
              " 4616,\n",
              " 3255,\n",
              " 4617,\n",
              " 1453,\n",
              " 89,\n",
              " 3256,\n",
              " 27,\n",
              " 87,\n",
              " 3256,\n",
              " 32,\n",
              " 79,\n",
              " 2147,\n",
              " 2562]"
            ]
          },
          "metadata": {},
          "execution_count": 8
        }
      ]
    },
    {
      "cell_type": "markdown",
      "source": [
        "## Use encoding technique on Y axis"
      ],
      "metadata": {
        "id": "hT1S1FFJggla"
      }
    },
    {
      "cell_type": "code",
      "source": [
        "label_encoder = preprocessing.LabelEncoder()\n",
        "Y = label_encoder.fit_transform(Y)\n",
        "Y"
      ],
      "metadata": {
        "id": "mDBgEOHigfwB",
        "colab": {
          "base_uri": "https://localhost:8080/"
        },
        "outputId": "a3fafad5-7bd4-4c74-f80c-be74658387df"
      },
      "execution_count": 13,
      "outputs": [
        {
          "output_type": "execute_result",
          "data": {
            "text/plain": [
              "array([1, 1, 1, ..., 1, 1, 1])"
            ]
          },
          "metadata": {},
          "execution_count": 13
        }
      ]
    },
    {
      "cell_type": "markdown",
      "source": [
        "## Padding to make every sentence with equal length"
      ],
      "metadata": {
        "id": "EsfHN39u_7S6"
      }
    },
    {
      "cell_type": "code",
      "source": [
        "X = pad_sequences(X,padding='post')"
      ],
      "metadata": {
        "id": "BIxLLOsIg80B"
      },
      "execution_count": 14,
      "outputs": []
    },
    {
      "cell_type": "code",
      "source": [
        "X.shape"
      ],
      "metadata": {
        "id": "v-QMCJtohtTX",
        "colab": {
          "base_uri": "https://localhost:8080/"
        },
        "outputId": "9726361b-ed28-4402-a943-54daf09ca9fe"
      },
      "execution_count": 15,
      "outputs": [
        {
          "output_type": "execute_result",
          "data": {
            "text/plain": [
              "(5791, 34)"
            ]
          },
          "metadata": {},
          "execution_count": 15
        }
      ]
    },
    {
      "cell_type": "code",
      "source": [
        "X[0]"
      ],
      "metadata": {
        "colab": {
          "base_uri": "https://localhost:8080/"
        },
        "id": "xpPyj1zjJh3x",
        "outputId": "2f86796b-a5ba-4736-ef40-d37d8e9df078"
      },
      "execution_count": 17,
      "outputs": [
        {
          "output_type": "execute_result",
          "data": {
            "text/plain": [
              "array([4613,    4,   48,  443, 3254, 4614, 4615, 4616, 3255, 4617, 1453,\n",
              "         89, 3256,   27,   87, 3256,   32,   79, 2147, 2562,    0,    0,\n",
              "          0,    0,    0,    0,    0,    0,    0,    0,    0,    0,    0,\n",
              "          0], dtype=int32)"
            ]
          },
          "metadata": {},
          "execution_count": 17
        }
      ]
    },
    {
      "cell_type": "markdown",
      "source": [
        "## Splitting Data"
      ],
      "metadata": {
        "id": "QaDxE90tLyrL"
      }
    },
    {
      "cell_type": "code",
      "source": [
        "X_train, X_test, y_train, y_test = train_test_split(X, Y, test_size=0.30, random_state=42)"
      ],
      "metadata": {
        "id": "uKHZL4u_L0pE"
      },
      "execution_count": 21,
      "outputs": []
    },
    {
      "cell_type": "code",
      "source": [
        "X_train.shape"
      ],
      "metadata": {
        "colab": {
          "base_uri": "https://localhost:8080/"
        },
        "id": "2rzONSFqMhJ_",
        "outputId": "9b5417ae-1ef7-42b5-c4dd-1b7dac661c4c"
      },
      "execution_count": 22,
      "outputs": [
        {
          "output_type": "execute_result",
          "data": {
            "text/plain": [
              "(4053, 34)"
            ]
          },
          "metadata": {},
          "execution_count": 22
        }
      ]
    },
    {
      "cell_type": "code",
      "source": [
        "model = Sequential()\n",
        "model.add(Embedding(5791, 2))\n",
        "model.add(SimpleRNN(32,return_sequences=False))\n",
        "model.add(Dense(1, activation='sigmoid'))\n",
        "\n",
        "model.summary()"
      ],
      "metadata": {
        "id": "45jRMy6AhykI",
        "colab": {
          "base_uri": "https://localhost:8080/"
        },
        "outputId": "94971738-ea05-4901-a6c3-e8c24642bdf6"
      },
      "execution_count": 23,
      "outputs": [
        {
          "output_type": "stream",
          "name": "stdout",
          "text": [
            "Model: \"sequential\"\n",
            "_________________________________________________________________\n",
            " Layer (type)                Output Shape              Param #   \n",
            "=================================================================\n",
            " embedding (Embedding)       (None, None, 2)           11582     \n",
            "                                                                 \n",
            " simple_rnn (SimpleRNN)      (None, 32)                1120      \n",
            "                                                                 \n",
            " dense (Dense)               (None, 1)                 33        \n",
            "                                                                 \n",
            "=================================================================\n",
            "Total params: 12735 (49.75 KB)\n",
            "Trainable params: 12735 (49.75 KB)\n",
            "Non-trainable params: 0 (0.00 Byte)\n",
            "_________________________________________________________________\n"
          ]
        }
      ]
    },
    {
      "cell_type": "code",
      "source": [
        "model.compile(optimizer='adam', loss='binary_crossentropy', metrics=['acc'])\n",
        "history = model.fit(X_train, y_train,epochs=5,validation_data=(X_test,y_test))"
      ],
      "metadata": {
        "id": "FtTwCeVph6pa",
        "colab": {
          "base_uri": "https://localhost:8080/"
        },
        "outputId": "33015ff9-5cef-467b-9620-43e8d85431ae"
      },
      "execution_count": 24,
      "outputs": [
        {
          "output_type": "stream",
          "name": "stdout",
          "text": [
            "Epoch 1/5\n",
            "127/127 [==============================] - 18s 120ms/step - loss: 0.6581 - acc: 0.6282 - val_loss: 0.6442 - val_acc: 0.6438\n",
            "Epoch 2/5\n",
            "127/127 [==============================] - 9s 72ms/step - loss: 0.6075 - acc: 0.6760 - val_loss: 0.6404 - val_acc: 0.6300\n",
            "Epoch 3/5\n",
            "127/127 [==============================] - 6s 44ms/step - loss: 0.5053 - acc: 0.7641 - val_loss: 0.6565 - val_acc: 0.6306\n",
            "Epoch 4/5\n",
            "127/127 [==============================] - 7s 55ms/step - loss: 0.3861 - acc: 0.8362 - val_loss: 0.7436 - val_acc: 0.6369\n",
            "Epoch 5/5\n",
            "127/127 [==============================] - 5s 37ms/step - loss: 0.2826 - acc: 0.8885 - val_loss: 0.8259 - val_acc: 0.6364\n"
          ]
        }
      ]
    }
  ]
}